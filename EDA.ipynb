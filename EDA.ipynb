{
 "cells": [
  {
   "cell_type": "markdown",
   "metadata": {},
   "source": [
    "# Análise Exploratória campeonato brasileiro de futebol pontos corridos série A 2009-2018"
   ]
  },
  {
   "cell_type": "markdown",
   "metadata": {},
   "source": [
    "### Para entender o raciocínio por trás desta análise, escrevi um artigo no Medium para ser complementar a leitura desse código. Acesse em: https://medium.com/@brunomesquitazamberlan/an%C3%A1lise-explorat%C3%B3ria-em-python-teoria-x-pr%C3%A1tica-d57ba1202166"
   ]
  },
  {
   "cell_type": "code",
   "execution_count": 138,
   "metadata": {},
   "outputs": [],
   "source": [
    "import pandas as pd\n",
    "import numpy as np\n",
    "import matplotlib as pl\n",
    "import seaborn as sb"
   ]
  },
  {
   "cell_type": "markdown",
   "metadata": {},
   "source": [
    "### Explicação técnica Python parte 1:"
   ]
  },
  {
   "cell_type": "markdown",
   "metadata": {},
   "source": [
    "Recomendo iniciar com um curso básico de Python. Existem vários disponíveis, minhas fontes recomendadas para você buscá-los são: Udemy, Udacity e Codeacademy. Neles, você aprendará como instalar o Python, as principais funções, estrutura de dados e controle de fluxo. Com isso, já é possível entender em mais detalhes o que estará escrito aqui.\n",
    "\n",
    "Creio que a \"mágica\" para quem quer trabalhar com dados está em saber utilizar as 2 bibliotecas básicas para dados:\n",
    "\n",
    "Pandas -> é a principal biblioteca do Python. Utilizaremos ela na maioria do tempo. Para saber mais, acesse: https://medium.com/data-hackers/uma-introdu%C3%A7%C3%A3o-simples-ao-pandas-1e15eea37fa1 http://pythonize.org/analise-dados-pandas.html\n",
    "\n",
    "Numpy -> é a base do Pandas. Para saber mais, acesse:\n",
    "https://medium.com/ensina-ai/entendendo-a-biblioteca-numpy-4858fde63355"
   ]
  },
  {
   "cell_type": "markdown",
   "metadata": {},
   "source": [
    "### Explicação técnica Python parte 2:"
   ]
  },
  {
   "cell_type": "markdown",
   "metadata": {},
   "source": [
    "Para uma análise inicial dos dados (serão referenciados como o dataset), utilizaremos três funções da biblioteca Pandas: **head()**, **tail()** e **read_csv()**, conforme pode ser visto nas células abaixo."
   ]
  },
  {
   "cell_type": "code",
   "execution_count": 139,
   "metadata": {
    "scrolled": false
   },
   "outputs": [
    {
     "data": {
      "text/html": [
       "<div>\n",
       "<style scoped>\n",
       "    .dataframe tbody tr th:only-of-type {\n",
       "        vertical-align: middle;\n",
       "    }\n",
       "\n",
       "    .dataframe tbody tr th {\n",
       "        vertical-align: top;\n",
       "    }\n",
       "\n",
       "    .dataframe thead th {\n",
       "        text-align: right;\n",
       "    }\n",
       "</style>\n",
       "<table border=\"1\" class=\"dataframe\">\n",
       "  <thead>\n",
       "    <tr style=\"text-align: right;\">\n",
       "      <th></th>\n",
       "      <th>ANO;Posicao;Time;Pontos;Vitoria;Empates;Derrotas;Gols pro;Gols Contra;Saldo Gols;Aproveitamento;Estados</th>\n",
       "    </tr>\n",
       "  </thead>\n",
       "  <tbody>\n",
       "    <tr>\n",
       "      <th>0</th>\n",
       "      <td>2009;1;Flamengo;67;19;10;9;58;44;14;58.80;RJ</td>\n",
       "    </tr>\n",
       "    <tr>\n",
       "      <th>1</th>\n",
       "      <td>2009;2;Internacional;65;19;8;11;65;44;21;57.00;RS</td>\n",
       "    </tr>\n",
       "    <tr>\n",
       "      <th>2</th>\n",
       "      <td>2009;3;Sao Paulo;65;18;11;9;57;42;15;57.00;SP</td>\n",
       "    </tr>\n",
       "    <tr>\n",
       "      <th>3</th>\n",
       "      <td>2009;4;Cruzeiro;62;18;8;12;58;53;5;54.40;MG</td>\n",
       "    </tr>\n",
       "    <tr>\n",
       "      <th>4</th>\n",
       "      <td>2009;5;Palmeiras;62;17;11;10;58;45;13;54.40;SP</td>\n",
       "    </tr>\n",
       "  </tbody>\n",
       "</table>\n",
       "</div>"
      ],
      "text/plain": [
       "  ANO;Posicao;Time;Pontos;Vitoria;Empates;Derrotas;Gols pro;Gols Contra;Saldo Gols;Aproveitamento;Estados\n",
       "0       2009;1;Flamengo;67;19;10;9;58;44;14;58.80;RJ                                                     \n",
       "1  2009;2;Internacional;65;19;8;11;65;44;21;57.00;RS                                                     \n",
       "2      2009;3;Sao Paulo;65;18;11;9;57;42;15;57.00;SP                                                     \n",
       "3        2009;4;Cruzeiro;62;18;8;12;58;53;5;54.40;MG                                                     \n",
       "4     2009;5;Palmeiras;62;17;11;10;58;45;13;54.40;SP                                                     "
      ]
     },
     "execution_count": 139,
     "metadata": {},
     "output_type": "execute_result"
    }
   ],
   "source": [
    "pd.read_csv('Brasileiro.csv').head()"
   ]
  },
  {
   "cell_type": "code",
   "execution_count": 140,
   "metadata": {},
   "outputs": [
    {
     "data": {
      "text/html": [
       "<div>\n",
       "<style scoped>\n",
       "    .dataframe tbody tr th:only-of-type {\n",
       "        vertical-align: middle;\n",
       "    }\n",
       "\n",
       "    .dataframe tbody tr th {\n",
       "        vertical-align: top;\n",
       "    }\n",
       "\n",
       "    .dataframe thead th {\n",
       "        text-align: right;\n",
       "    }\n",
       "</style>\n",
       "<table border=\"1\" class=\"dataframe\">\n",
       "  <thead>\n",
       "    <tr style=\"text-align: right;\">\n",
       "      <th></th>\n",
       "      <th>ANO;Posicao;Time;Pontos;Vitoria;Empates;Derrotas;Gols pro;Gols Contra;Saldo Gols;Aproveitamento;Estados</th>\n",
       "    </tr>\n",
       "  </thead>\n",
       "  <tbody>\n",
       "    <tr>\n",
       "      <th>195</th>\n",
       "      <td>2018;16;Vasco;43;10;13;15;41;48;-7;37.7;RJ</td>\n",
       "    </tr>\n",
       "    <tr>\n",
       "      <th>196</th>\n",
       "      <td>2018;17;Sport;42;11;9;18;35;57;-22;36.8;PE</td>\n",
       "    </tr>\n",
       "    <tr>\n",
       "      <th>197</th>\n",
       "      <td>2018;18;America MG;40;10;10;18;30;47;-17;35.1;MG</td>\n",
       "    </tr>\n",
       "    <tr>\n",
       "      <th>198</th>\n",
       "      <td>2018;19;Vitoria;37;9;10;19;36;63;-27;32.4;PE</td>\n",
       "    </tr>\n",
       "    <tr>\n",
       "      <th>199</th>\n",
       "      <td>2018;20;Parana;23;4;11;23;18;57;-39;20.1;PR</td>\n",
       "    </tr>\n",
       "  </tbody>\n",
       "</table>\n",
       "</div>"
      ],
      "text/plain": [
       "    ANO;Posicao;Time;Pontos;Vitoria;Empates;Derrotas;Gols pro;Gols Contra;Saldo Gols;Aproveitamento;Estados\n",
       "195         2018;16;Vasco;43;10;13;15;41;48;-7;37.7;RJ                                                     \n",
       "196         2018;17;Sport;42;11;9;18;35;57;-22;36.8;PE                                                     \n",
       "197   2018;18;America MG;40;10;10;18;30;47;-17;35.1;MG                                                     \n",
       "198       2018;19;Vitoria;37;9;10;19;36;63;-27;32.4;PE                                                     \n",
       "199        2018;20;Parana;23;4;11;23;18;57;-39;20.1;PR                                                     "
      ]
     },
     "execution_count": 140,
     "metadata": {},
     "output_type": "execute_result"
    }
   ],
   "source": [
    "pd.read_csv('Brasileiro.csv').tail()"
   ]
  },
  {
   "cell_type": "markdown",
   "metadata": {},
   "source": [
    "Em relação as funções **head()** e **tail()**, servem para analisar respectivamente as primeiras e últimas linhas. Para saber mais sobre, acesse : http://www.datasciencemadesimple.com/head-and-tail-in-python-pandas/"
   ]
  },
  {
   "cell_type": "markdown",
   "metadata": {},
   "source": [
    "## 1) Análise inicial (Preparação dos dados)"
   ]
  },
  {
   "cell_type": "markdown",
   "metadata": {},
   "source": [
    "Com a aplicação das funções **head()** e **tail()**, obtivemos alguns insights que nos ajudarão na fase da exploração dos dados:\n",
    "\n",
    "1. Resumo do dataset: contém a posição final na tabela de cada time participante do campeonato brasileiro de futebol série A (a partir de 2009 até 2018) junto com as principais números obtidos: pontos, número de vitórias, empates, derrotas, gols pró, gols contra, saldo de gols e aproveitamento. \n",
    "\n",
    "2. O separador utilizado no arquivo csv obtido é \";\""
   ]
  },
  {
   "cell_type": "markdown",
   "metadata": {},
   "source": [
    "### Entendendo o problema parte 1:"
   ]
  },
  {
   "cell_type": "markdown",
   "metadata": {},
   "source": [
    "3. Ao que parece, poderemos utilizar as variáveis *ANO*, *Posicao* e *Estados* como índices que nos auxiliarão na identificação das observações (linhas).\n",
    "\n",
    "Aplicar qualquer análise de estatística descritiva em essas variáveis não nos trará resultado objetivo, visto que são \"índices\". Para entender o conceito, imagina aplicar uma média aritmética nos anos. Isso não traria valor para a análise, mas saber o ano em que um time finalizou em determinada posição tornam essas variáveis necessárias servindo de apoio para entendimento do que iremos explorar.\n",
    "\n",
    "4. Poderemos explorar estatisticamente as variáveis:\n",
    "\n",
    "    *Pontos*\n",
    "    \n",
    "    *Vitoria*\n",
    "    \n",
    "    *Empates*\n",
    "    \n",
    "    *Derrotas*\n",
    "    \n",
    "    *Gols pro*\n",
    "    \n",
    "    *Gols Contra*\n",
    "    \n",
    "    *Saldo Gols*\n",
    "    \n",
    "    *Aproveitamento*\n",
    "    \n",
    "    *Estados*"
   ]
  },
  {
   "cell_type": "code",
   "execution_count": 141,
   "metadata": {},
   "outputs": [],
   "source": [
    "data = pd.read_csv('Brasileiro.csv', sep = \";\")"
   ]
  },
  {
   "cell_type": "markdown",
   "metadata": {},
   "source": [
    "### Explicação técnica Python parte 3:"
   ]
  },
  {
   "cell_type": "markdown",
   "metadata": {},
   "source": [
    "Por fim, utilizamos a função **read_csv()** para ler o arquivo (conforme pode ser visto na célula acima), passando como parâmetro o separador \";\". Existem mais parâmetros que podemos definir, mas esses que utilizamos são os principais. Para saber mais, acesse: https://www.geeksforgeeks.org/python-read-csv-using-pandas-read_csv/"
   ]
  },
  {
   "cell_type": "markdown",
   "metadata": {},
   "source": [
    "Analisaremos em que formato em que os dados estão armazenadas e verificaremos se existem valores não preenchidos (vazios) ou nulos que possam atrapalhar a análise exploratória. Por fim, analisarei em que tipo de dados as variáveis estão armazenadas. Abaixo, um artigo que fala um pouco sobre esse desafio que teremos que enfrentar em nossas análises.\n",
    "\n",
    "https://www.bauer.uh.edu/jhess/documents/2.pdf"
   ]
  },
  {
   "cell_type": "code",
   "execution_count": 142,
   "metadata": {},
   "outputs": [
    {
     "data": {
      "text/plain": [
       "ANO                 int64\n",
       "Posicao             int64\n",
       "Time               object\n",
       "Pontos              int64\n",
       "Vitoria             int64\n",
       "Empates             int64\n",
       "Derrotas            int64\n",
       "Gols pro            int64\n",
       "Gols Contra         int64\n",
       "Saldo Gols         object\n",
       "Aproveitamento    float64\n",
       "Estados            object\n",
       "dtype: object"
      ]
     },
     "execution_count": 142,
     "metadata": {},
     "output_type": "execute_result"
    }
   ],
   "source": [
    "data.dtypes"
   ]
  },
  {
   "cell_type": "markdown",
   "metadata": {},
   "source": [
    "### Explicação técnica Python parte 4:"
   ]
  },
  {
   "cell_type": "markdown",
   "metadata": {},
   "source": [
    "Conclusões obtidas utilizando a função **dtypes()**:\n",
    "\n",
    "1. Temos 3 tipos de variáveis para lidar: *int64*(inteiro); *object64*(string) e *float64* (número com vírgula/ponto). Para saber mais sobre os tipos de dados utilizados no Pandas, acesse: https://pbpython.com/pandas_dtypes.html\n",
    "\n",
    "2. Aparentemente, estão em formatos bons para se trabalhar visto que não apresenta nada fora do comum. \n",
    "\n",
    "3. Não existem valores não preenchidos (vazios) ou nulos\n",
    "\n",
    "Para saber mais sobre a função **dtypes()**, acesse: https://www.geeksforgeeks.org/python-pandas-dataframe-dtypes/"
   ]
  },
  {
   "cell_type": "markdown",
   "metadata": {},
   "source": [
    "### Explicação técnica Python parte 5:\n",
    "\n",
    "Vejam que para analisar se temos dados faltantes ou em branco, utilizaremos duas funções do Pandas: **isna()** e **isnull()**. O problema é que eles utilizados isoladamente não conseguem nos responder as questões."
   ]
  },
  {
   "cell_type": "code",
   "execution_count": 143,
   "metadata": {},
   "outputs": [
    {
     "data": {
      "text/html": [
       "<div>\n",
       "<style scoped>\n",
       "    .dataframe tbody tr th:only-of-type {\n",
       "        vertical-align: middle;\n",
       "    }\n",
       "\n",
       "    .dataframe tbody tr th {\n",
       "        vertical-align: top;\n",
       "    }\n",
       "\n",
       "    .dataframe thead th {\n",
       "        text-align: right;\n",
       "    }\n",
       "</style>\n",
       "<table border=\"1\" class=\"dataframe\">\n",
       "  <thead>\n",
       "    <tr style=\"text-align: right;\">\n",
       "      <th></th>\n",
       "      <th>ANO</th>\n",
       "      <th>Posicao</th>\n",
       "      <th>Time</th>\n",
       "      <th>Pontos</th>\n",
       "      <th>Vitoria</th>\n",
       "      <th>Empates</th>\n",
       "      <th>Derrotas</th>\n",
       "      <th>Gols pro</th>\n",
       "      <th>Gols Contra</th>\n",
       "      <th>Saldo Gols</th>\n",
       "      <th>Aproveitamento</th>\n",
       "      <th>Estados</th>\n",
       "    </tr>\n",
       "  </thead>\n",
       "  <tbody>\n",
       "    <tr>\n",
       "      <th>0</th>\n",
       "      <td>False</td>\n",
       "      <td>False</td>\n",
       "      <td>False</td>\n",
       "      <td>False</td>\n",
       "      <td>False</td>\n",
       "      <td>False</td>\n",
       "      <td>False</td>\n",
       "      <td>False</td>\n",
       "      <td>False</td>\n",
       "      <td>False</td>\n",
       "      <td>False</td>\n",
       "      <td>False</td>\n",
       "    </tr>\n",
       "    <tr>\n",
       "      <th>1</th>\n",
       "      <td>False</td>\n",
       "      <td>False</td>\n",
       "      <td>False</td>\n",
       "      <td>False</td>\n",
       "      <td>False</td>\n",
       "      <td>False</td>\n",
       "      <td>False</td>\n",
       "      <td>False</td>\n",
       "      <td>False</td>\n",
       "      <td>False</td>\n",
       "      <td>False</td>\n",
       "      <td>False</td>\n",
       "    </tr>\n",
       "    <tr>\n",
       "      <th>2</th>\n",
       "      <td>False</td>\n",
       "      <td>False</td>\n",
       "      <td>False</td>\n",
       "      <td>False</td>\n",
       "      <td>False</td>\n",
       "      <td>False</td>\n",
       "      <td>False</td>\n",
       "      <td>False</td>\n",
       "      <td>False</td>\n",
       "      <td>False</td>\n",
       "      <td>False</td>\n",
       "      <td>False</td>\n",
       "    </tr>\n",
       "    <tr>\n",
       "      <th>3</th>\n",
       "      <td>False</td>\n",
       "      <td>False</td>\n",
       "      <td>False</td>\n",
       "      <td>False</td>\n",
       "      <td>False</td>\n",
       "      <td>False</td>\n",
       "      <td>False</td>\n",
       "      <td>False</td>\n",
       "      <td>False</td>\n",
       "      <td>False</td>\n",
       "      <td>False</td>\n",
       "      <td>False</td>\n",
       "    </tr>\n",
       "    <tr>\n",
       "      <th>4</th>\n",
       "      <td>False</td>\n",
       "      <td>False</td>\n",
       "      <td>False</td>\n",
       "      <td>False</td>\n",
       "      <td>False</td>\n",
       "      <td>False</td>\n",
       "      <td>False</td>\n",
       "      <td>False</td>\n",
       "      <td>False</td>\n",
       "      <td>False</td>\n",
       "      <td>False</td>\n",
       "      <td>False</td>\n",
       "    </tr>\n",
       "  </tbody>\n",
       "</table>\n",
       "</div>"
      ],
      "text/plain": [
       "     ANO  Posicao   Time  Pontos  Vitoria  Empates  Derrotas  Gols pro  \\\n",
       "0  False    False  False   False    False    False     False     False   \n",
       "1  False    False  False   False    False    False     False     False   \n",
       "2  False    False  False   False    False    False     False     False   \n",
       "3  False    False  False   False    False    False     False     False   \n",
       "4  False    False  False   False    False    False     False     False   \n",
       "\n",
       "   Gols Contra  Saldo Gols  Aproveitamento  Estados  \n",
       "0        False       False           False    False  \n",
       "1        False       False           False    False  \n",
       "2        False       False           False    False  \n",
       "3        False       False           False    False  \n",
       "4        False       False           False    False  "
      ]
     },
     "execution_count": 143,
     "metadata": {},
     "output_type": "execute_result"
    }
   ],
   "source": [
    "data.isna().head() # Monta um dataframe utilizando como valores o resultado da condição isna()"
   ]
  },
  {
   "cell_type": "code",
   "execution_count": 144,
   "metadata": {},
   "outputs": [
    {
     "data": {
      "text/html": [
       "<div>\n",
       "<style scoped>\n",
       "    .dataframe tbody tr th:only-of-type {\n",
       "        vertical-align: middle;\n",
       "    }\n",
       "\n",
       "    .dataframe tbody tr th {\n",
       "        vertical-align: top;\n",
       "    }\n",
       "\n",
       "    .dataframe thead th {\n",
       "        text-align: right;\n",
       "    }\n",
       "</style>\n",
       "<table border=\"1\" class=\"dataframe\">\n",
       "  <thead>\n",
       "    <tr style=\"text-align: right;\">\n",
       "      <th></th>\n",
       "      <th>ANO</th>\n",
       "      <th>Posicao</th>\n",
       "      <th>Time</th>\n",
       "      <th>Pontos</th>\n",
       "      <th>Vitoria</th>\n",
       "      <th>Empates</th>\n",
       "      <th>Derrotas</th>\n",
       "      <th>Gols pro</th>\n",
       "      <th>Gols Contra</th>\n",
       "      <th>Saldo Gols</th>\n",
       "      <th>Aproveitamento</th>\n",
       "      <th>Estados</th>\n",
       "    </tr>\n",
       "  </thead>\n",
       "  <tbody>\n",
       "    <tr>\n",
       "      <th>0</th>\n",
       "      <td>False</td>\n",
       "      <td>False</td>\n",
       "      <td>False</td>\n",
       "      <td>False</td>\n",
       "      <td>False</td>\n",
       "      <td>False</td>\n",
       "      <td>False</td>\n",
       "      <td>False</td>\n",
       "      <td>False</td>\n",
       "      <td>False</td>\n",
       "      <td>False</td>\n",
       "      <td>False</td>\n",
       "    </tr>\n",
       "    <tr>\n",
       "      <th>1</th>\n",
       "      <td>False</td>\n",
       "      <td>False</td>\n",
       "      <td>False</td>\n",
       "      <td>False</td>\n",
       "      <td>False</td>\n",
       "      <td>False</td>\n",
       "      <td>False</td>\n",
       "      <td>False</td>\n",
       "      <td>False</td>\n",
       "      <td>False</td>\n",
       "      <td>False</td>\n",
       "      <td>False</td>\n",
       "    </tr>\n",
       "    <tr>\n",
       "      <th>2</th>\n",
       "      <td>False</td>\n",
       "      <td>False</td>\n",
       "      <td>False</td>\n",
       "      <td>False</td>\n",
       "      <td>False</td>\n",
       "      <td>False</td>\n",
       "      <td>False</td>\n",
       "      <td>False</td>\n",
       "      <td>False</td>\n",
       "      <td>False</td>\n",
       "      <td>False</td>\n",
       "      <td>False</td>\n",
       "    </tr>\n",
       "    <tr>\n",
       "      <th>3</th>\n",
       "      <td>False</td>\n",
       "      <td>False</td>\n",
       "      <td>False</td>\n",
       "      <td>False</td>\n",
       "      <td>False</td>\n",
       "      <td>False</td>\n",
       "      <td>False</td>\n",
       "      <td>False</td>\n",
       "      <td>False</td>\n",
       "      <td>False</td>\n",
       "      <td>False</td>\n",
       "      <td>False</td>\n",
       "    </tr>\n",
       "    <tr>\n",
       "      <th>4</th>\n",
       "      <td>False</td>\n",
       "      <td>False</td>\n",
       "      <td>False</td>\n",
       "      <td>False</td>\n",
       "      <td>False</td>\n",
       "      <td>False</td>\n",
       "      <td>False</td>\n",
       "      <td>False</td>\n",
       "      <td>False</td>\n",
       "      <td>False</td>\n",
       "      <td>False</td>\n",
       "      <td>False</td>\n",
       "    </tr>\n",
       "  </tbody>\n",
       "</table>\n",
       "</div>"
      ],
      "text/plain": [
       "     ANO  Posicao   Time  Pontos  Vitoria  Empates  Derrotas  Gols pro  \\\n",
       "0  False    False  False   False    False    False     False     False   \n",
       "1  False    False  False   False    False    False     False     False   \n",
       "2  False    False  False   False    False    False     False     False   \n",
       "3  False    False  False   False    False    False     False     False   \n",
       "4  False    False  False   False    False    False     False     False   \n",
       "\n",
       "   Gols Contra  Saldo Gols  Aproveitamento  Estados  \n",
       "0        False       False           False    False  \n",
       "1        False       False           False    False  \n",
       "2        False       False           False    False  \n",
       "3        False       False           False    False  \n",
       "4        False       False           False    False  "
      ]
     },
     "execution_count": 144,
     "metadata": {},
     "output_type": "execute_result"
    }
   ],
   "source": [
    "data.isnull().head() # Monta um dataframe utilizando como valores o resultado da verificação da condição isnull()"
   ]
  },
  {
   "cell_type": "markdown",
   "metadata": {},
   "source": [
    "_O problema é que para termos certeza se não temos valores em branco ou nulos seria necessário percorrer todo o dataframe para garantir isso. Sendo assim, precisaremos usar o método any() que verifica valores distintos._\n",
    "\n",
    "_Se executarmos o método e a saída for FALSE, significa que todos os valores são iguais. Caso existissem valores diferentes (no caso distintos), teríamos a saída TRUE_"
   ]
  },
  {
   "cell_type": "markdown",
   "metadata": {},
   "source": [
    "Para combinar a utilização da função **any()**, criei uma condição que verifica se existem valores não preenchidos E valores nulos"
   ]
  },
  {
   "cell_type": "code",
   "execution_count": 145,
   "metadata": {},
   "outputs": [
    {
     "name": "stdout",
     "output_type": "stream",
     "text": [
      "Sem valores faltantes ou nulos\n"
     ]
    }
   ],
   "source": [
    "if (data.isna().values.any() == False) and (data.isnull().values.any() == False):\n",
    "    print(\"Sem valores faltantes ou nulos\")"
   ]
  },
  {
   "cell_type": "markdown",
   "metadata": {},
   "source": [
    "**Como forma alternativa para verificar se existem valores não preenchidos E valores nulos, poderíamos utilizar**:"
   ]
  },
  {
   "cell_type": "code",
   "execution_count": 146,
   "metadata": {},
   "outputs": [
    {
     "name": "stdout",
     "output_type": "stream",
     "text": [
      "Existem  0 observações em branco\n"
     ]
    }
   ],
   "source": [
    "print(\"Existem \", data.isna().values.sum(), \"observações em branco\")"
   ]
  },
  {
   "cell_type": "code",
   "execution_count": 147,
   "metadata": {},
   "outputs": [
    {
     "name": "stdout",
     "output_type": "stream",
     "text": [
      "Existem  0 observações com valores nulos\n"
     ]
    }
   ],
   "source": [
    "print(\"Existem \", data.isnull().values.sum(), \"observações com valores nulos\")"
   ]
  },
  {
   "cell_type": "markdown",
   "metadata": {},
   "source": [
    "Para saber mais sobre **isna()**, **isnull()**, acesse:\n",
    "https://codeday.me/en/qa/20190305/1921.html\n",
    "\n",
    "Sobre o **any()** e funções complementares, acessar: https://chartio.com/resources/tutorials/how-to-check-if-any-value-is-nan-in-a-pandas-dataframe/"
   ]
  },
  {
   "cell_type": "markdown",
   "metadata": {},
   "source": [
    "## 2) Análise exploratória dos dados"
   ]
  },
  {
   "cell_type": "code",
   "execution_count": 148,
   "metadata": {},
   "outputs": [
    {
     "data": {
      "text/html": [
       "<div>\n",
       "<style scoped>\n",
       "    .dataframe tbody tr th:only-of-type {\n",
       "        vertical-align: middle;\n",
       "    }\n",
       "\n",
       "    .dataframe tbody tr th {\n",
       "        vertical-align: top;\n",
       "    }\n",
       "\n",
       "    .dataframe thead th {\n",
       "        text-align: right;\n",
       "    }\n",
       "</style>\n",
       "<table border=\"1\" class=\"dataframe\">\n",
       "  <thead>\n",
       "    <tr style=\"text-align: right;\">\n",
       "      <th></th>\n",
       "      <th>Pontos</th>\n",
       "      <th>Vitoria</th>\n",
       "      <th>Empates</th>\n",
       "      <th>Derrotas</th>\n",
       "      <th>Gols pro</th>\n",
       "      <th>Gols Contra</th>\n",
       "      <th>Aproveitamento</th>\n",
       "    </tr>\n",
       "  </thead>\n",
       "  <tbody>\n",
       "    <tr>\n",
       "      <th>count</th>\n",
       "      <td>200.000000</td>\n",
       "      <td>200.000000</td>\n",
       "      <td>200.000000</td>\n",
       "      <td>200.000000</td>\n",
       "      <td>200.000000</td>\n",
       "      <td>200.000000</td>\n",
       "      <td>200.000000</td>\n",
       "    </tr>\n",
       "    <tr>\n",
       "      <th>mean</th>\n",
       "      <td>51.790000</td>\n",
       "      <td>13.855000</td>\n",
       "      <td>10.280000</td>\n",
       "      <td>13.865000</td>\n",
       "      <td>46.920000</td>\n",
       "      <td>46.950000</td>\n",
       "      <td>45.356000</td>\n",
       "    </tr>\n",
       "    <tr>\n",
       "      <th>std</th>\n",
       "      <td>11.625907</td>\n",
       "      <td>3.967706</td>\n",
       "      <td>2.528551</td>\n",
       "      <td>4.179007</td>\n",
       "      <td>10.234615</td>\n",
       "      <td>10.034989</td>\n",
       "      <td>10.216961</td>\n",
       "    </tr>\n",
       "    <tr>\n",
       "      <th>min</th>\n",
       "      <td>20.000000</td>\n",
       "      <td>4.000000</td>\n",
       "      <td>3.000000</td>\n",
       "      <td>4.000000</td>\n",
       "      <td>18.000000</td>\n",
       "      <td>22.000000</td>\n",
       "      <td>17.000000</td>\n",
       "    </tr>\n",
       "    <tr>\n",
       "      <th>25%</th>\n",
       "      <td>44.000000</td>\n",
       "      <td>11.000000</td>\n",
       "      <td>9.000000</td>\n",
       "      <td>11.000000</td>\n",
       "      <td>39.000000</td>\n",
       "      <td>40.000000</td>\n",
       "      <td>38.900000</td>\n",
       "    </tr>\n",
       "    <tr>\n",
       "      <th>50%</th>\n",
       "      <td>51.000000</td>\n",
       "      <td>14.000000</td>\n",
       "      <td>10.000000</td>\n",
       "      <td>14.000000</td>\n",
       "      <td>47.500000</td>\n",
       "      <td>46.000000</td>\n",
       "      <td>44.850000</td>\n",
       "    </tr>\n",
       "    <tr>\n",
       "      <th>75%</th>\n",
       "      <td>59.000000</td>\n",
       "      <td>16.000000</td>\n",
       "      <td>12.000000</td>\n",
       "      <td>17.000000</td>\n",
       "      <td>53.000000</td>\n",
       "      <td>53.000000</td>\n",
       "      <td>52.000000</td>\n",
       "    </tr>\n",
       "    <tr>\n",
       "      <th>max</th>\n",
       "      <td>81.000000</td>\n",
       "      <td>24.000000</td>\n",
       "      <td>17.000000</td>\n",
       "      <td>28.000000</td>\n",
       "      <td>77.000000</td>\n",
       "      <td>79.000000</td>\n",
       "      <td>71.000000</td>\n",
       "    </tr>\n",
       "  </tbody>\n",
       "</table>\n",
       "</div>"
      ],
      "text/plain": [
       "           Pontos     Vitoria     Empates    Derrotas    Gols pro  \\\n",
       "count  200.000000  200.000000  200.000000  200.000000  200.000000   \n",
       "mean    51.790000   13.855000   10.280000   13.865000   46.920000   \n",
       "std     11.625907    3.967706    2.528551    4.179007   10.234615   \n",
       "min     20.000000    4.000000    3.000000    4.000000   18.000000   \n",
       "25%     44.000000   11.000000    9.000000   11.000000   39.000000   \n",
       "50%     51.000000   14.000000   10.000000   14.000000   47.500000   \n",
       "75%     59.000000   16.000000   12.000000   17.000000   53.000000   \n",
       "max     81.000000   24.000000   17.000000   28.000000   77.000000   \n",
       "\n",
       "       Gols Contra  Aproveitamento  \n",
       "count   200.000000      200.000000  \n",
       "mean     46.950000       45.356000  \n",
       "std      10.034989       10.216961  \n",
       "min      22.000000       17.000000  \n",
       "25%      40.000000       38.900000  \n",
       "50%      46.000000       44.850000  \n",
       "75%      53.000000       52.000000  \n",
       "max      79.000000       71.000000  "
      ]
     },
     "execution_count": 148,
     "metadata": {},
     "output_type": "execute_result"
    }
   ],
   "source": [
    "data.iloc[:,3:11].describe()\n",
    "# Fiz um slice na tabela para deixar somente as variáveis numéricas que poderiam ser exploradas através de estatística descritiva\n",
    "# Analisei as estatísticas descritivas (média, desvio-padrão, valor mínimo, valor máximo e quartis)"
   ]
  },
  {
   "cell_type": "markdown",
   "metadata": {},
   "source": [
    "### Explicação técnica Python parte 6:"
   ]
  },
  {
   "cell_type": "markdown",
   "metadata": {},
   "source": [
    "Para trazer os principais informações da estatística descritiva, utilizamos a função **describe()**. Para entende-lá, acesse: https://www.geeksforgeeks.org/python-pandas-dataframe-describe-method/\n",
    "\n",
    "Como ponto mais importante a explorar tecnicamente, destaco a função **iloc()**. Ao longo dos próximos códigos, ficará mais claro. Para saber sobre a teoria, acesse:  https://medium.com/horadecodar/data-science-tips-02-como-usar-loc-e-iloc-no-pandas-fab58e214d87\n",
    "\n",
    "Além do **iloc()**, poderíamos ter utilizado o **loc()**. A principal diferença é que o **iloc()** utiliza índices numéricos, enquanto que o **loc()** utiliza os nome das variáveis como índice. No link acima, existem exemplos das duas formas de utilização."
   ]
  },
  {
   "cell_type": "markdown",
   "metadata": {},
   "source": [
    "### Entendendo o problema parte 2:"
   ]
  },
  {
   "cell_type": "markdown",
   "metadata": {},
   "source": [
    "### Com essa visão inicial da parte técnica, já é possível demonstrar os 2 \"caminhos\" que utilizaremos na análise exploratória de dados. Antes, recomendo a leitura desse artigo para entender mais em detalhes o que é a análise exploratória: https://towardsdatascience.com/a-gentle-introduction-to-exploratory-data-analysis-f11d843b8184\n",
    "\n",
    "### ***Na minha utilização da análise exploratória, começo explorando DIMENSÃO e, depois, vou para a DISPERSÃO.***.\n",
    "\n",
    "### Caminho 1 (DIMENSÃO) -> se fosse resumir uma variável em um número, qual seria? O mais comum é buscar MÉDIA, MODA OU MEDIANA, mas podemos ter outros números como MÍNIMO e MÁXIMO. Tudo depende do que você está querendo explorar em seus dados.\n",
    "\n",
    "### Caminho 2 (DISPERSÃO) -> como é a dispersão dessas variáveis, ou seja, como os valores observados estão distribuídos. Isso ajuda a entender o formato dos dados para, no futuro, buscar fazer previsões. Recomendo 2 ferramentas (Boxplot e Histograma). No nosso caso, iremos utilizar:\n",
    "### Boxplot"
   ]
  },
  {
   "cell_type": "markdown",
   "metadata": {},
   "source": [
    "### VISÃO DE TODO x PARTE: Antes de iniciarmos a análise, sugiro dividirmos o dataset em grupos (de acordo com características comuns). O objetivo será entender o comportamento das observações (linhas) considerando o TODO e, depois, entender o comportamento observando as PARTES. Quando vou explorar dados, tento dividir em grupos buscando características comuns (DIMENSÃO).\n",
    "\n",
    "### Com o meu conhecimento no assunto (Campeonato Brasileiro de Futebol), identificaria 4 grandes grupos de times com objetivos comuns:\n",
    "\n",
    "### 1. Campeões \n",
    "### 2. Classificados para Libertadores\n",
    "### 3. Classificados para Sul-americana\n",
    "### 4. Não rebaixados\n",
    "### 5. Rebaixados"
   ]
  },
  {
   "cell_type": "code",
   "execution_count": 149,
   "metadata": {},
   "outputs": [],
   "source": [
    "todos = data\n",
    "campeao = data.loc[data['Posicao'] == 1]\n",
    "libertadores = data.loc[data['Posicao'] <= 4]\n",
    "sul_americana = data.loc[(data['Posicao'] > 5) & (data['Posicao'] <= 12)]\n",
    "nao_rebaixados = data.loc[(data['Posicao'] > 12) & (data['Posicao'] <= 16)]\n",
    "rebaixados = data.loc[data['Posicao'] > 16]\n",
    "\n",
    "# Armazenei os grupos em variáveis distintas para facilitar a exploração posterior."
   ]
  },
  {
   "cell_type": "markdown",
   "metadata": {},
   "source": [
    "### Explicação técnica Python parte 7:"
   ]
  },
  {
   "cell_type": "markdown",
   "metadata": {},
   "source": [
    "Para exibir um dataframe filtrado, utilizo o .loc com as condições que desejo. Para saber mais, acesse: https://www.geeksforgeeks.org/selecting-rows-in-pandas-dataframe-based-on-conditions/ \n",
    "\n",
    "As condições foram baseadas nos seguintes critérios:\n",
    "\n",
    "1. Campeões, ***o melhor classificado entre todos*** posição = 1)\n",
    "2. Libertadores, ***todos acima da quarta posição*** (posição <=4)\n",
    "3. Sul-americana, ***todos abaixo da quinta posição até a posição 12*** (posição > 5 E posição <= 12)\n",
    "4. Não-rebaixados, ***todos abaixo da posição 12 e acima da 16*** (posição > 12 E posição <= 16)\n",
    "5. Rebaixados, ***todos abaixo da posição 16*** (posição > 16)\n",
    "\n",
    "OBSERVAÇÃO: *Em 2017, a regra para classificação para a Libertadores mudou (agora temos um grupo do time na posição 5 e posição 6 indo para uma fase Pré-libertadores). Para não atrapalhar a análise, desconsiderei essa regra*. \n",
    "\n",
    "**Quando estamos explorando dados nem sempre conseguiremos traduzir todas as especificidades, cabe a nós julgar se vale a pena \"generalizarmos\". Nesse caso, sim, pois é uma regra recente aplicada somente em 2018, ou seja, 1 ano de observações dentre os 10 disponíveis**. "
   ]
  },
  {
   "cell_type": "markdown",
   "metadata": {},
   "source": [
    "### Entendendo o problema parte 3:"
   ]
  },
  {
   "cell_type": "markdown",
   "metadata": {},
   "source": [
    "## 2.1) Variáveis x Dimensões\n",
    "\n",
    "### Com os grupos dividididos, fiz o seguinte raciocínio:\n",
    "\n",
    "### 1) Quais são as variáveis (ou a variável) que melhor serviriam para explorar esses dados?\n",
    "\n",
    "Pensando que o objetivo de um time é buscar o número máximo de pontos, poderíamos explorar o número de pontos. Pensei também em explorar número de vitórias, empates e derrotas, mas nada mais é que uma \"derivação\" do número de pontos. Para conseguir explorar essas 3 variáveis, provavelmente teríamos que demonstrar mais dados e isso poderia confundir a interpretação dos dados. Por isso, **optei pelo número de pontos como a variável que representa melhor esses dados**.\n",
    "\n",
    "Uma outra variável que poderia ser explorado e também é o resultado entre número de vitórias, empates e derrotas é o aproveitamento, mas creio que ela só é importante para analisar rendimento de um time durante uma fração do campeonato (Ex: aproveitamento em 10 rodadas). Quando o campeonato chega ao fim, número de pontos e aproveitamento são equivalentes. No fim, o número de pontos acaba sendo o aproveitamento ao final das 38 rodadas. **Escolho o número de pontos, pois creio que é um conceito de mais fácil assimilação**.\n",
    "\n",
    "### 2) Quais são as medidas (ou a medida) de dimensão que melhor representariam essas variáveis?\n",
    "\n",
    "Pensando em um dataset que mostra classificações finais de times em um campeonato baseado no número de pontos, pensei em algumas medidas que poderiam dar insights sobre os grupos:\n",
    "\n",
    "* **Número mínimo de pontos para um time entrar em determinado grupo -> para dar a noção o que cada time teria que atingir para nos grupos apresentados**\n",
    "    - Para não ser rebaixado\n",
    "    - Para ser classificado para Sul-americana\n",
    "    - Para ser classificado para Libertadores\n",
    "    - Para ser campeão\n",
    "\n",
    "* **Número máximo de pontos que um time campeão já atingiu -> para dar a visão de qual seria o recorde a ser batido pelos times campeão brasileiros**\n",
    "\n",
    "\n",
    "### 3) Com base nessas medidas, como poderia apresentá-las de forma concisa e interpretável?\n",
    "\n",
    "A maneira mais simples que pensei para demonstrar a exploração dos dados, seria exibir 6 tabelas demonstrando as dimensões escolhidas para a variável número de pontos ao longo dos 10 anos observados conforme especificado abaixo:\n",
    "\n",
    "* Valor mínimo: 5 tabelas para demonstrar o número mínimo de pontos necessários para um time pertencer a determinado grupo. \n",
    "\n",
    "* Valor máximo campeão: 1 tabela para demonstrar o número máximo de pontos que um time atingiu quando foi campeão.\n",
    "\n"
   ]
  },
  {
   "cell_type": "markdown",
   "metadata": {},
   "source": [
    "### Explicação técnica Python parte 8:"
   ]
  },
  {
   "cell_type": "markdown",
   "metadata": {},
   "source": [
    "Para saber o número mínimo de pontos que os times atingiram em determinado ano, faríamos o seguinte:\n",
    "\n",
    "1) Para trazer um dataset inteiro filtrado pela condição ANO == 2009\n",
    "\n",
    "'libertadores.loc[libertadores['ANO'] == 2009]' "
   ]
  },
  {
   "cell_type": "code",
   "execution_count": 150,
   "metadata": {},
   "outputs": [
    {
     "data": {
      "text/html": [
       "<div>\n",
       "<style scoped>\n",
       "    .dataframe tbody tr th:only-of-type {\n",
       "        vertical-align: middle;\n",
       "    }\n",
       "\n",
       "    .dataframe tbody tr th {\n",
       "        vertical-align: top;\n",
       "    }\n",
       "\n",
       "    .dataframe thead th {\n",
       "        text-align: right;\n",
       "    }\n",
       "</style>\n",
       "<table border=\"1\" class=\"dataframe\">\n",
       "  <thead>\n",
       "    <tr style=\"text-align: right;\">\n",
       "      <th></th>\n",
       "      <th>ANO</th>\n",
       "      <th>Posicao</th>\n",
       "      <th>Time</th>\n",
       "      <th>Pontos</th>\n",
       "      <th>Vitoria</th>\n",
       "      <th>Empates</th>\n",
       "      <th>Derrotas</th>\n",
       "      <th>Gols pro</th>\n",
       "      <th>Gols Contra</th>\n",
       "      <th>Saldo Gols</th>\n",
       "      <th>Aproveitamento</th>\n",
       "      <th>Estados</th>\n",
       "    </tr>\n",
       "  </thead>\n",
       "  <tbody>\n",
       "    <tr>\n",
       "      <th>0</th>\n",
       "      <td>2009</td>\n",
       "      <td>1</td>\n",
       "      <td>Flamengo</td>\n",
       "      <td>67</td>\n",
       "      <td>19</td>\n",
       "      <td>10</td>\n",
       "      <td>9</td>\n",
       "      <td>58</td>\n",
       "      <td>44</td>\n",
       "      <td>14</td>\n",
       "      <td>58.8</td>\n",
       "      <td>RJ</td>\n",
       "    </tr>\n",
       "    <tr>\n",
       "      <th>1</th>\n",
       "      <td>2009</td>\n",
       "      <td>2</td>\n",
       "      <td>Internacional</td>\n",
       "      <td>65</td>\n",
       "      <td>19</td>\n",
       "      <td>8</td>\n",
       "      <td>11</td>\n",
       "      <td>65</td>\n",
       "      <td>44</td>\n",
       "      <td>21</td>\n",
       "      <td>57.0</td>\n",
       "      <td>RS</td>\n",
       "    </tr>\n",
       "    <tr>\n",
       "      <th>2</th>\n",
       "      <td>2009</td>\n",
       "      <td>3</td>\n",
       "      <td>Sao Paulo</td>\n",
       "      <td>65</td>\n",
       "      <td>18</td>\n",
       "      <td>11</td>\n",
       "      <td>9</td>\n",
       "      <td>57</td>\n",
       "      <td>42</td>\n",
       "      <td>15</td>\n",
       "      <td>57.0</td>\n",
       "      <td>SP</td>\n",
       "    </tr>\n",
       "    <tr>\n",
       "      <th>3</th>\n",
       "      <td>2009</td>\n",
       "      <td>4</td>\n",
       "      <td>Cruzeiro</td>\n",
       "      <td>62</td>\n",
       "      <td>18</td>\n",
       "      <td>8</td>\n",
       "      <td>12</td>\n",
       "      <td>58</td>\n",
       "      <td>53</td>\n",
       "      <td>5</td>\n",
       "      <td>54.4</td>\n",
       "      <td>MG</td>\n",
       "    </tr>\n",
       "  </tbody>\n",
       "</table>\n",
       "</div>"
      ],
      "text/plain": [
       "    ANO  Posicao           Time  Pontos  Vitoria  Empates  Derrotas  Gols pro  \\\n",
       "0  2009        1       Flamengo      67       19       10         9        58   \n",
       "1  2009        2  Internacional      65       19        8        11        65   \n",
       "2  2009        3      Sao Paulo      65       18       11         9        57   \n",
       "3  2009        4       Cruzeiro      62       18        8        12        58   \n",
       "\n",
       "   Gols Contra Saldo Gols  Aproveitamento Estados  \n",
       "0           44         14            58.8      RJ  \n",
       "1           44         21            57.0      RS  \n",
       "2           42         15            57.0      SP  \n",
       "3           53          5            54.4      MG  "
      ]
     },
     "execution_count": 150,
     "metadata": {},
     "output_type": "execute_result"
    }
   ],
   "source": [
    "libertadores.loc[libertadores['ANO'] == 2009] ## Execute para ver a saída"
   ]
  },
  {
   "cell_type": "markdown",
   "metadata": {},
   "source": [
    "2) Como não queremos todos as variáveis, mas somente PONTOS, aplicaríamos \"um filtro no filtro\". Após, aplicaríamos a função que queremos: min() ou max()\n",
    "\n",
    "'libertadores.loc[libertadores['ANO'] == 2009].Pontos.min()'"
   ]
  },
  {
   "cell_type": "code",
   "execution_count": 151,
   "metadata": {},
   "outputs": [
    {
     "data": {
      "text/plain": [
       "62"
      ]
     },
     "execution_count": 151,
     "metadata": {},
     "output_type": "execute_result"
    }
   ],
   "source": [
    "libertadores.loc[libertadores['ANO'] == 2009].Pontos.min() ## Execute para ver a saída"
   ]
  },
  {
   "cell_type": "markdown",
   "metadata": {},
   "source": [
    "Agora pense no seguinte, se fossemos armazenar cada resultado, teríamos que escrever isso 40 vezes. Para cada grupo que dividimos (campeao, libertadores, sul_americana, nao_rebaixado, rebaixados) teríamos 10 variáveis. Como temos 4 grupos, seriam 40. Por isso, sugiro escrever um loop que faça isso!\n",
    "\n",
    "Antes de escrever o loop, cabe ressaltar que existem várias formas de montar um dataframe no Pandas: utilizaremos um DataFrame com base em uma lista, passando um índice e nomeando colunas:\n",
    "https://www.geeksforgeeks.org/create-a-pandas-dataframe-from-lists/\n",
    "\n",
    "Para o dataframe ficar mais legível, sugiro colocar índice nas linhas. Para entender, acesse o link:\n",
    "https://appdividend.com/2019/01/26/pandas-set-index-example-python-set_index-tutorial/\n",
    " \n",
    "SOBRE O LOOP, para entender, acesse: https://www.w3schools.com/python/python_for_loops.asp\n",
    "Para fazer o loop, utilizaremos a seguinte lógica:\n",
    "1. Criar uma lista que recebesse os valores mínimos de acordo com os anos\n",
    "2. Iterar sobre os anos (2009 até 2018), adicionando novos registros nessa lista com o **append()**. Para entender sobre listas e a função, acesse aqui: https://www.programiz.com/python-programming/methods/list/append ; \n",
    "3. Com base na lista, criar um dataframe que será retornado na função denominada *explora_valores_minimos()*.\n",
    "\n",
    "Ao invés de digitar todos os anos (2009, 2010...), buscaremos do grupo todos a coluna 'ANO' utilizando a função **unique()**. Acesse aqui para saber mais:http://thomas-cokelaer.info/tutorials/python/data_structures.html ;  https://chrisalbon.com/python/data_wrangling/pandas_list_unique_values_in_column/. Depois, converteremos isso para a estrutura de dados lista com a função **tolist()**"
   ]
  },
  {
   "cell_type": "code",
   "execution_count": 152,
   "metadata": {},
   "outputs": [],
   "source": [
    "def explora_valores_minimos(grupos):\n",
    "\n",
    "    anos = todos['ANO'].unique().tolist()\n",
    "    valores_minimos = []\n",
    "    \n",
    "    for indice_anos in anos:\n",
    "        valores_minimos.append(grupos.loc[grupos['ANO'] == indice_anos].Pontos.min())    \n",
    "    dataframe_valores_minimos = pd.DataFrame(valores_minimos, index=anos, columns=['Valores mínimos'])\n",
    "    \n",
    "    return dataframe_valores_minimos "
   ]
  },
  {
   "cell_type": "markdown",
   "metadata": {},
   "source": [
    "## 2.2) Dispersão (boxplot)"
   ]
  },
  {
   "cell_type": "markdown",
   "metadata": {},
   "source": [
    "### Entendendo o problema parte 4:"
   ]
  },
  {
   "cell_type": "markdown",
   "metadata": {},
   "source": [
    "### Analisar a dispersão de uma variável é uma maneira de verificar o quanto os valores observados estão próximos (ou distantes) como uma forma intuitiva de prever novos valores (valores esperados) "
   ]
  },
  {
   "cell_type": "markdown",
   "metadata": {},
   "source": [
    "***Vamos analisar a dispersão da variável número de pontos. Nesse caso, analisaremos a dispersão separadamente do número de pontos de acordo com os grupos que dividimos (campeao, libertadores, sul_americana, nao_rebaixados, rebaixados).***\n",
    "\n",
    "* Para verificar a dispersão, recomendo utilizar o boxplot. "
   ]
  },
  {
   "cell_type": "markdown",
   "metadata": {},
   "source": [
    "#### IMPORTANTE: Não vejo sentido em aplicar um boxplot para o grupo dos campeões: A cada ano só teremos 1 time (1 observação). Sendo assim, verificar a dispersão ano a ano, não trará insights"
   ]
  },
  {
   "cell_type": "markdown",
   "metadata": {},
   "source": [
    "### Explicação técnica Python parte 9:"
   ]
  },
  {
   "cell_type": "markdown",
   "metadata": {},
   "source": [
    "As duas principais bibliotecas para gráficos no Python são: Matplotlib e Seaborn.\n",
    "\n",
    "Basicamente, a Seaborn é uma implementação mais fácil (porém sem muitas possibilidades de customizações nos gráficos). Recomendo ela para extrair insights rápidos.\n",
    "\n",
    "Entretanto, quando precisarmos de gráficos mais rebuscados, a Matplotlib é a melhor opção.\n",
    "\n",
    "No caso do Boxplot, utilizamos a função **boxplot()** da Seaborn. Para saber mais, acesse: https://seaborn.pydata.org/generated/seaborn.boxplot.html\n",
    "\n",
    "Um exemplo de como utilizaremos a função:\n",
    "'sb.boxplot(x=libertadores['ANO'], y=libertadores['Pontos'])'"
   ]
  },
  {
   "cell_type": "markdown",
   "metadata": {},
   "source": [
    "## 3) Resultados/Insights"
   ]
  },
  {
   "cell_type": "markdown",
   "metadata": {},
   "source": [
    "### Explicação técnica Python parte 9:"
   ]
  },
  {
   "cell_type": "markdown",
   "metadata": {},
   "source": [
    "Para imprimir os valores na tela, utilizaremos a função **print()** e para obter os valores que correspondem utilizaremos **.loc()**\n",
    "\n",
    "Para obter os índices correspondentes aos valores mínimos e máximos, utilizaremos **idxmin()** e **idxmax()**. Para saber mais, consulte:\n",
    "https://www.geeksforgeeks.org/python-pandas-dataframe-idxmax/\n",
    "https://pandas.pydata.org/pandas-docs/stable/reference/api/pandas.Series.idxmin.html"
   ]
  },
  {
   "cell_type": "markdown",
   "metadata": {},
   "source": [
    "### Campeões Insights:"
   ]
  },
  {
   "cell_type": "code",
   "execution_count": 153,
   "metadata": {},
   "outputs": [
    {
     "data": {
      "text/html": [
       "<div>\n",
       "<style scoped>\n",
       "    .dataframe tbody tr th:only-of-type {\n",
       "        vertical-align: middle;\n",
       "    }\n",
       "\n",
       "    .dataframe tbody tr th {\n",
       "        vertical-align: top;\n",
       "    }\n",
       "\n",
       "    .dataframe thead th {\n",
       "        text-align: right;\n",
       "    }\n",
       "</style>\n",
       "<table border=\"1\" class=\"dataframe\">\n",
       "  <thead>\n",
       "    <tr style=\"text-align: right;\">\n",
       "      <th></th>\n",
       "      <th>Valores mínimos</th>\n",
       "    </tr>\n",
       "  </thead>\n",
       "  <tbody>\n",
       "    <tr>\n",
       "      <th>2009</th>\n",
       "      <td>67</td>\n",
       "    </tr>\n",
       "    <tr>\n",
       "      <th>2010</th>\n",
       "      <td>71</td>\n",
       "    </tr>\n",
       "    <tr>\n",
       "      <th>2011</th>\n",
       "      <td>71</td>\n",
       "    </tr>\n",
       "    <tr>\n",
       "      <th>2012</th>\n",
       "      <td>77</td>\n",
       "    </tr>\n",
       "    <tr>\n",
       "      <th>2013</th>\n",
       "      <td>76</td>\n",
       "    </tr>\n",
       "    <tr>\n",
       "      <th>2014</th>\n",
       "      <td>80</td>\n",
       "    </tr>\n",
       "    <tr>\n",
       "      <th>2015</th>\n",
       "      <td>81</td>\n",
       "    </tr>\n",
       "    <tr>\n",
       "      <th>2016</th>\n",
       "      <td>80</td>\n",
       "    </tr>\n",
       "    <tr>\n",
       "      <th>2017</th>\n",
       "      <td>72</td>\n",
       "    </tr>\n",
       "    <tr>\n",
       "      <th>2018</th>\n",
       "      <td>80</td>\n",
       "    </tr>\n",
       "  </tbody>\n",
       "</table>\n",
       "</div>"
      ],
      "text/plain": [
       "      Valores mínimos\n",
       "2009               67\n",
       "2010               71\n",
       "2011               71\n",
       "2012               77\n",
       "2013               76\n",
       "2014               80\n",
       "2015               81\n",
       "2016               80\n",
       "2017               72\n",
       "2018               80"
      ]
     },
     "execution_count": 153,
     "metadata": {},
     "output_type": "execute_result"
    }
   ],
   "source": [
    "explora_valores_minimos(campeao) ## Aplicar a função explora_valores_minimos (definida por nós) com o grupo campeao"
   ]
  },
  {
   "cell_type": "code",
   "execution_count": 154,
   "metadata": {},
   "outputs": [
    {
     "name": "stdout",
     "output_type": "stream",
     "text": [
      "O menor número de pontos necessários para um time ser campeão foram 67 pontos no ano de 2009 pelo Flamengo \n",
      "\n",
      "O recorde de pontos de um time campeão foi 81 pontos no ano de 2015 pelo Corinthians \n",
      "\n"
     ]
    }
   ],
   "source": [
    "print(\"O menor número de pontos necessários para um time ser campeão foram\",\n",
    "      campeao['Pontos'].min(),\n",
    "      \"pontos no ano de\", \n",
    "      campeao.loc[campeao['Pontos'].idxmin(),'ANO'],\n",
    "     \"pelo\", campeao.loc[campeao['Pontos'].idxmin(),'Time'], \"\\n\")\n",
    "\n",
    "print(\"O recorde de pontos de um time campeão foi\",\n",
    "      campeao['Pontos'].max(),\n",
    "      \"pontos no ano de\", \n",
    "      campeao.loc[campeao['Pontos'].idxmax(),'ANO'],\n",
    "     \"pelo\", campeao.loc[campeao['Pontos'].idxmax(),'Time'], \"\\n\")\n"
   ]
  },
  {
   "cell_type": "markdown",
   "metadata": {},
   "source": [
    "É muito importante saber interpretar os resultados obtidos. Como estou buscando informações do grupo de campões:\n",
    "1. Só terei um time para analisar, ou seja, a função mínimo foi feita com 1 time. Isso significa que o mínimo é igual ao máximo"
   ]
  },
  {
   "cell_type": "markdown",
   "metadata": {},
   "source": [
    "### Libertadores insights:"
   ]
  },
  {
   "cell_type": "code",
   "execution_count": 155,
   "metadata": {},
   "outputs": [
    {
     "data": {
      "text/html": [
       "<div>\n",
       "<style scoped>\n",
       "    .dataframe tbody tr th:only-of-type {\n",
       "        vertical-align: middle;\n",
       "    }\n",
       "\n",
       "    .dataframe tbody tr th {\n",
       "        vertical-align: top;\n",
       "    }\n",
       "\n",
       "    .dataframe thead th {\n",
       "        text-align: right;\n",
       "    }\n",
       "</style>\n",
       "<table border=\"1\" class=\"dataframe\">\n",
       "  <thead>\n",
       "    <tr style=\"text-align: right;\">\n",
       "      <th></th>\n",
       "      <th>Valores mínimos</th>\n",
       "    </tr>\n",
       "  </thead>\n",
       "  <tbody>\n",
       "    <tr>\n",
       "      <th>2009</th>\n",
       "      <td>62</td>\n",
       "    </tr>\n",
       "    <tr>\n",
       "      <th>2010</th>\n",
       "      <td>63</td>\n",
       "    </tr>\n",
       "    <tr>\n",
       "      <th>2011</th>\n",
       "      <td>61</td>\n",
       "    </tr>\n",
       "    <tr>\n",
       "      <th>2012</th>\n",
       "      <td>66</td>\n",
       "    </tr>\n",
       "    <tr>\n",
       "      <th>2013</th>\n",
       "      <td>61</td>\n",
       "    </tr>\n",
       "    <tr>\n",
       "      <th>2014</th>\n",
       "      <td>69</td>\n",
       "    </tr>\n",
       "    <tr>\n",
       "      <th>2015</th>\n",
       "      <td>62</td>\n",
       "    </tr>\n",
       "    <tr>\n",
       "      <th>2016</th>\n",
       "      <td>62</td>\n",
       "    </tr>\n",
       "    <tr>\n",
       "      <th>2017</th>\n",
       "      <td>62</td>\n",
       "    </tr>\n",
       "    <tr>\n",
       "      <th>2018</th>\n",
       "      <td>66</td>\n",
       "    </tr>\n",
       "  </tbody>\n",
       "</table>\n",
       "</div>"
      ],
      "text/plain": [
       "      Valores mínimos\n",
       "2009               62\n",
       "2010               63\n",
       "2011               61\n",
       "2012               66\n",
       "2013               61\n",
       "2014               69\n",
       "2015               62\n",
       "2016               62\n",
       "2017               62\n",
       "2018               66"
      ]
     },
     "execution_count": 155,
     "metadata": {},
     "output_type": "execute_result"
    }
   ],
   "source": [
    "explora_valores_minimos(libertadores)"
   ]
  },
  {
   "cell_type": "code",
   "execution_count": 156,
   "metadata": {},
   "outputs": [
    {
     "name": "stdout",
     "output_type": "stream",
     "text": [
      "O menor número de pontos necessários para um time atingir a classificação para a libertadores foi 61 pontos no ano de 2011 pelo Flamengo \n",
      "\n"
     ]
    }
   ],
   "source": [
    "print(\"O menor número de pontos necessários para um time atingir a classificação para a libertadores foi\",\n",
    "      libertadores['Pontos'].min(),\n",
    "      \"pontos no ano de\", \n",
    "      libertadores.loc[libertadores['Pontos'].idxmin(),'ANO'],\n",
    "     \"pelo\", libertadores.loc[libertadores['Pontos'].idxmin(),'Time'], \"\\n\")"
   ]
  },
  {
   "cell_type": "code",
   "execution_count": 157,
   "metadata": {},
   "outputs": [
    {
     "data": {
      "text/plain": [
       "<matplotlib.axes._subplots.AxesSubplot at 0x7f9be75997f0>"
      ]
     },
     "execution_count": 157,
     "metadata": {},
     "output_type": "execute_result"
    },
    {
     "data": {
      "image/png": "[encoded data removed]",
      "text/plain": [
       "<Figure size 432x288 with 1 Axes>"
      ]
     },
     "metadata": {
      "needs_background": "light"
     },
     "output_type": "display_data"
    }
   ],
   "source": [
    "sb.boxplot(x=libertadores['ANO'], y=libertadores['Pontos'])"
   ]
  },
  {
   "cell_type": "markdown",
   "metadata": {},
   "source": [
    "### Insights que podem ser extraídos do Boxplot Libertadores:\n",
    "*Considerando que a maior dispersão significa, maior diferença de pontos entre os times, considero que isso é um indício de campeonato disputado. Quanto mais dispersa for a variável número de pontos, maior foi a disputa*. Sendo assim:\n",
    "\n",
    "1. Em 2009 tivemos a maior disputa pelas vagas na libertadores visto que temos aparentemente a menor dispersão. Tivemos um outlier (ponto fora do padrão - veja o ponto próximo a parte inferior do gráfico), o que significa que o último time a se classificar ficou bem abaixo dos demais que classificaram.\n",
    "2. Em 2015 tivemos a menor disputa pelas vagas na libertadores visto que temos aparentemente a maior dispersão com o primeiro colocado se dispersando bastante dos demais (conforme pode ser visto pelo ponto próximo da parte superior do gráfico).\n",
    "\n",
    "**Para confirmar essas suposições (veja que o que afirmei foi com base na análise visual/intuitiva dos boxplots), exibiremos o grupo dos times classificados para a libertadores nos 2 anos citados**."
   ]
  },
  {
   "cell_type": "code",
   "execution_count": 158,
   "metadata": {},
   "outputs": [
    {
     "data": {
      "text/html": [
       "<div>\n",
       "<style scoped>\n",
       "    .dataframe tbody tr th:only-of-type {\n",
       "        vertical-align: middle;\n",
       "    }\n",
       "\n",
       "    .dataframe tbody tr th {\n",
       "        vertical-align: top;\n",
       "    }\n",
       "\n",
       "    .dataframe thead th {\n",
       "        text-align: right;\n",
       "    }\n",
       "</style>\n",
       "<table border=\"1\" class=\"dataframe\">\n",
       "  <thead>\n",
       "    <tr style=\"text-align: right;\">\n",
       "      <th></th>\n",
       "      <th>ANO</th>\n",
       "      <th>Posicao</th>\n",
       "      <th>Time</th>\n",
       "      <th>Pontos</th>\n",
       "      <th>Vitoria</th>\n",
       "      <th>Empates</th>\n",
       "      <th>Derrotas</th>\n",
       "      <th>Gols pro</th>\n",
       "      <th>Gols Contra</th>\n",
       "      <th>Saldo Gols</th>\n",
       "      <th>Aproveitamento</th>\n",
       "      <th>Estados</th>\n",
       "    </tr>\n",
       "  </thead>\n",
       "  <tbody>\n",
       "    <tr>\n",
       "      <th>0</th>\n",
       "      <td>2009</td>\n",
       "      <td>1</td>\n",
       "      <td>Flamengo</td>\n",
       "      <td>67</td>\n",
       "      <td>19</td>\n",
       "      <td>10</td>\n",
       "      <td>9</td>\n",
       "      <td>58</td>\n",
       "      <td>44</td>\n",
       "      <td>14</td>\n",
       "      <td>58.8</td>\n",
       "      <td>RJ</td>\n",
       "    </tr>\n",
       "    <tr>\n",
       "      <th>1</th>\n",
       "      <td>2009</td>\n",
       "      <td>2</td>\n",
       "      <td>Internacional</td>\n",
       "      <td>65</td>\n",
       "      <td>19</td>\n",
       "      <td>8</td>\n",
       "      <td>11</td>\n",
       "      <td>65</td>\n",
       "      <td>44</td>\n",
       "      <td>21</td>\n",
       "      <td>57.0</td>\n",
       "      <td>RS</td>\n",
       "    </tr>\n",
       "    <tr>\n",
       "      <th>2</th>\n",
       "      <td>2009</td>\n",
       "      <td>3</td>\n",
       "      <td>Sao Paulo</td>\n",
       "      <td>65</td>\n",
       "      <td>18</td>\n",
       "      <td>11</td>\n",
       "      <td>9</td>\n",
       "      <td>57</td>\n",
       "      <td>42</td>\n",
       "      <td>15</td>\n",
       "      <td>57.0</td>\n",
       "      <td>SP</td>\n",
       "    </tr>\n",
       "    <tr>\n",
       "      <th>3</th>\n",
       "      <td>2009</td>\n",
       "      <td>4</td>\n",
       "      <td>Cruzeiro</td>\n",
       "      <td>62</td>\n",
       "      <td>18</td>\n",
       "      <td>8</td>\n",
       "      <td>12</td>\n",
       "      <td>58</td>\n",
       "      <td>53</td>\n",
       "      <td>5</td>\n",
       "      <td>54.4</td>\n",
       "      <td>MG</td>\n",
       "    </tr>\n",
       "  </tbody>\n",
       "</table>\n",
       "</div>"
      ],
      "text/plain": [
       "    ANO  Posicao           Time  Pontos  Vitoria  Empates  Derrotas  Gols pro  \\\n",
       "0  2009        1       Flamengo      67       19       10         9        58   \n",
       "1  2009        2  Internacional      65       19        8        11        65   \n",
       "2  2009        3      Sao Paulo      65       18       11         9        57   \n",
       "3  2009        4       Cruzeiro      62       18        8        12        58   \n",
       "\n",
       "   Gols Contra Saldo Gols  Aproveitamento Estados  \n",
       "0           44         14            58.8      RJ  \n",
       "1           44         21            57.0      RS  \n",
       "2           42         15            57.0      SP  \n",
       "3           53          5            54.4      MG  "
      ]
     },
     "execution_count": 158,
     "metadata": {},
     "output_type": "execute_result"
    }
   ],
   "source": [
    "libertadores.loc[libertadores['ANO'] == 2009] ## Diferença de 5 pontos entre o primeiro e o último classificado"
   ]
  },
  {
   "cell_type": "code",
   "execution_count": 159,
   "metadata": {},
   "outputs": [
    {
     "data": {
      "text/html": [
       "<div>\n",
       "<style scoped>\n",
       "    .dataframe tbody tr th:only-of-type {\n",
       "        vertical-align: middle;\n",
       "    }\n",
       "\n",
       "    .dataframe tbody tr th {\n",
       "        vertical-align: top;\n",
       "    }\n",
       "\n",
       "    .dataframe thead th {\n",
       "        text-align: right;\n",
       "    }\n",
       "</style>\n",
       "<table border=\"1\" class=\"dataframe\">\n",
       "  <thead>\n",
       "    <tr style=\"text-align: right;\">\n",
       "      <th></th>\n",
       "      <th>ANO</th>\n",
       "      <th>Posicao</th>\n",
       "      <th>Time</th>\n",
       "      <th>Pontos</th>\n",
       "      <th>Vitoria</th>\n",
       "      <th>Empates</th>\n",
       "      <th>Derrotas</th>\n",
       "      <th>Gols pro</th>\n",
       "      <th>Gols Contra</th>\n",
       "      <th>Saldo Gols</th>\n",
       "      <th>Aproveitamento</th>\n",
       "      <th>Estados</th>\n",
       "    </tr>\n",
       "  </thead>\n",
       "  <tbody>\n",
       "    <tr>\n",
       "      <th>120</th>\n",
       "      <td>2015</td>\n",
       "      <td>1</td>\n",
       "      <td>Corinthians</td>\n",
       "      <td>81</td>\n",
       "      <td>24</td>\n",
       "      <td>9</td>\n",
       "      <td>5</td>\n",
       "      <td>71</td>\n",
       "      <td>31</td>\n",
       "      <td>40</td>\n",
       "      <td>71.0</td>\n",
       "      <td>SP</td>\n",
       "    </tr>\n",
       "    <tr>\n",
       "      <th>121</th>\n",
       "      <td>2015</td>\n",
       "      <td>2</td>\n",
       "      <td>Atletico MG</td>\n",
       "      <td>69</td>\n",
       "      <td>21</td>\n",
       "      <td>6</td>\n",
       "      <td>11</td>\n",
       "      <td>65</td>\n",
       "      <td>47</td>\n",
       "      <td>18</td>\n",
       "      <td>61.0</td>\n",
       "      <td>MG</td>\n",
       "    </tr>\n",
       "    <tr>\n",
       "      <th>122</th>\n",
       "      <td>2015</td>\n",
       "      <td>3</td>\n",
       "      <td>Gremio</td>\n",
       "      <td>68</td>\n",
       "      <td>20</td>\n",
       "      <td>8</td>\n",
       "      <td>10</td>\n",
       "      <td>52</td>\n",
       "      <td>32</td>\n",
       "      <td>20</td>\n",
       "      <td>60.0</td>\n",
       "      <td>RS</td>\n",
       "    </tr>\n",
       "    <tr>\n",
       "      <th>123</th>\n",
       "      <td>2015</td>\n",
       "      <td>4</td>\n",
       "      <td>Sao Paulo</td>\n",
       "      <td>62</td>\n",
       "      <td>18</td>\n",
       "      <td>8</td>\n",
       "      <td>12</td>\n",
       "      <td>53</td>\n",
       "      <td>47</td>\n",
       "      <td>6</td>\n",
       "      <td>54.0</td>\n",
       "      <td>SP</td>\n",
       "    </tr>\n",
       "  </tbody>\n",
       "</table>\n",
       "</div>"
      ],
      "text/plain": [
       "      ANO  Posicao         Time  Pontos  Vitoria  Empates  Derrotas  Gols pro  \\\n",
       "120  2015        1  Corinthians      81       24        9         5        71   \n",
       "121  2015        2  Atletico MG      69       21        6        11        65   \n",
       "122  2015        3       Gremio      68       20        8        10        52   \n",
       "123  2015        4    Sao Paulo      62       18        8        12        53   \n",
       "\n",
       "     Gols Contra Saldo Gols  Aproveitamento Estados  \n",
       "120           31         40            71.0      SP  \n",
       "121           47         18            61.0      MG  \n",
       "122           32         20            60.0      RS  \n",
       "123           47          6            54.0      SP  "
      ]
     },
     "execution_count": 159,
     "metadata": {},
     "output_type": "execute_result"
    }
   ],
   "source": [
    "libertadores.loc[libertadores['ANO'] == 2015] ## Diferença de 19 pontos entre o primeiro e o último classificado"
   ]
  },
  {
   "cell_type": "markdown",
   "metadata": {},
   "source": [
    "### Sul-americana insights:"
   ]
  },
  {
   "cell_type": "code",
   "execution_count": 160,
   "metadata": {},
   "outputs": [
    {
     "data": {
      "text/html": [
       "<div>\n",
       "<style scoped>\n",
       "    .dataframe tbody tr th:only-of-type {\n",
       "        vertical-align: middle;\n",
       "    }\n",
       "\n",
       "    .dataframe tbody tr th {\n",
       "        vertical-align: top;\n",
       "    }\n",
       "\n",
       "    .dataframe thead th {\n",
       "        text-align: right;\n",
       "    }\n",
       "</style>\n",
       "<table border=\"1\" class=\"dataframe\">\n",
       "  <thead>\n",
       "    <tr style=\"text-align: right;\">\n",
       "      <th></th>\n",
       "      <th>Valores mínimos</th>\n",
       "    </tr>\n",
       "  </thead>\n",
       "  <tbody>\n",
       "    <tr>\n",
       "      <th>2009</th>\n",
       "      <td>49</td>\n",
       "    </tr>\n",
       "    <tr>\n",
       "      <th>2010</th>\n",
       "      <td>47</td>\n",
       "    </tr>\n",
       "    <tr>\n",
       "      <th>2011</th>\n",
       "      <td>48</td>\n",
       "    </tr>\n",
       "    <tr>\n",
       "      <th>2012</th>\n",
       "      <td>49</td>\n",
       "    </tr>\n",
       "    <tr>\n",
       "      <th>2013</th>\n",
       "      <td>48</td>\n",
       "    </tr>\n",
       "    <tr>\n",
       "      <th>2014</th>\n",
       "      <td>47</td>\n",
       "    </tr>\n",
       "    <tr>\n",
       "      <th>2015</th>\n",
       "      <td>49</td>\n",
       "    </tr>\n",
       "    <tr>\n",
       "      <th>2016</th>\n",
       "      <td>51</td>\n",
       "    </tr>\n",
       "    <tr>\n",
       "      <th>2017</th>\n",
       "      <td>50</td>\n",
       "    </tr>\n",
       "    <tr>\n",
       "      <th>2018</th>\n",
       "      <td>45</td>\n",
       "    </tr>\n",
       "  </tbody>\n",
       "</table>\n",
       "</div>"
      ],
      "text/plain": [
       "      Valores mínimos\n",
       "2009               49\n",
       "2010               47\n",
       "2011               48\n",
       "2012               49\n",
       "2013               48\n",
       "2014               47\n",
       "2015               49\n",
       "2016               51\n",
       "2017               50\n",
       "2018               45"
      ]
     },
     "execution_count": 160,
     "metadata": {},
     "output_type": "execute_result"
    }
   ],
   "source": [
    "explora_valores_minimos(sul_americana)"
   ]
  },
  {
   "cell_type": "code",
   "execution_count": 161,
   "metadata": {},
   "outputs": [
    {
     "name": "stdout",
     "output_type": "stream",
     "text": [
      "O menor número de pontos necessários para um time atingir a classificação para a Sul-americana foi 45 pontos no ano de 2018 pelo Fluminense \n",
      "\n"
     ]
    }
   ],
   "source": [
    "print(\"O menor número de pontos necessários para um time atingir a classificação para a Sul-americana foi\",\n",
    "      sul_americana['Pontos'].min(),\n",
    "      \"pontos no ano de\", \n",
    "      sul_americana.loc[sul_americana['Pontos'].idxmin(),'ANO'],\n",
    "     \"pelo\", sul_americana.loc[sul_americana['Pontos'].idxmin(),'Time'], \"\\n\")"
   ]
  },
  {
   "cell_type": "code",
   "execution_count": 162,
   "metadata": {},
   "outputs": [
    {
     "data": {
      "text/plain": [
       "<matplotlib.axes._subplots.AxesSubplot at 0x7f9be70f9be0>"
      ]
     },
     "execution_count": 162,
     "metadata": {},
     "output_type": "execute_result"
    },
    {
     "data": {
      "image/png": "[encoded data removed]",
      "text/plain": [
       "<Figure size 432x288 with 1 Axes>"
      ]
     },
     "metadata": {
      "needs_background": "light"
     },
     "output_type": "display_data"
    }
   ],
   "source": [
    "sb.boxplot(x=sul_americana['ANO'], y=sul_americana['Pontos'])"
   ]
  },
  {
   "cell_type": "markdown",
   "metadata": {},
   "source": [
    "### Insights que podem ser extraídos do Boxplot Sul Americana:\n",
    "\n",
    "*Considerando que a maior dispersão significa, maior diferença de pontos entre os times, considero que isso é um indício de campeonato disputado. Quanto mais dispersa for a variável número de pontos, maior foi a disputa*. Sendo assim:\n",
    "\n",
    "1. Em 2016 tivemos a maior disputa pelas vagas na sul americana visto que temos aparentemente a menor dispersão. \n",
    "2. Em 2018 tivemos a menor disputa pelas vagas na sul americana visto que temos aparentemente a maior dispersão.\n",
    "\n",
    "**Para confirmar essas suposições (veja que o que afirmei foi com base na análise visual/intuitiva dos boxplots), exibiremos o grupo dos times classificados para a sul-americana nos 2 anos citados**."
   ]
  },
  {
   "cell_type": "code",
   "execution_count": 163,
   "metadata": {},
   "outputs": [
    {
     "data": {
      "text/html": [
       "<div>\n",
       "<style scoped>\n",
       "    .dataframe tbody tr th:only-of-type {\n",
       "        vertical-align: middle;\n",
       "    }\n",
       "\n",
       "    .dataframe tbody tr th {\n",
       "        vertical-align: top;\n",
       "    }\n",
       "\n",
       "    .dataframe thead th {\n",
       "        text-align: right;\n",
       "    }\n",
       "</style>\n",
       "<table border=\"1\" class=\"dataframe\">\n",
       "  <thead>\n",
       "    <tr style=\"text-align: right;\">\n",
       "      <th></th>\n",
       "      <th>ANO</th>\n",
       "      <th>Posicao</th>\n",
       "      <th>Time</th>\n",
       "      <th>Pontos</th>\n",
       "      <th>Vitoria</th>\n",
       "      <th>Empates</th>\n",
       "      <th>Derrotas</th>\n",
       "      <th>Gols pro</th>\n",
       "      <th>Gols Contra</th>\n",
       "      <th>Saldo Gols</th>\n",
       "      <th>Aproveitamento</th>\n",
       "      <th>Estados</th>\n",
       "    </tr>\n",
       "  </thead>\n",
       "  <tbody>\n",
       "    <tr>\n",
       "      <th>145</th>\n",
       "      <td>2016</td>\n",
       "      <td>6</td>\n",
       "      <td>Athletico PR</td>\n",
       "      <td>57</td>\n",
       "      <td>17</td>\n",
       "      <td>6</td>\n",
       "      <td>15</td>\n",
       "      <td>38</td>\n",
       "      <td>32</td>\n",
       "      <td>6</td>\n",
       "      <td>50.0</td>\n",
       "      <td>PR</td>\n",
       "    </tr>\n",
       "    <tr>\n",
       "      <th>146</th>\n",
       "      <td>2016</td>\n",
       "      <td>7</td>\n",
       "      <td>Corinthians</td>\n",
       "      <td>55</td>\n",
       "      <td>15</td>\n",
       "      <td>10</td>\n",
       "      <td>13</td>\n",
       "      <td>48</td>\n",
       "      <td>42</td>\n",
       "      <td>6</td>\n",
       "      <td>48.0</td>\n",
       "      <td>SP</td>\n",
       "    </tr>\n",
       "    <tr>\n",
       "      <th>147</th>\n",
       "      <td>2016</td>\n",
       "      <td>8</td>\n",
       "      <td>Ponte Preta</td>\n",
       "      <td>53</td>\n",
       "      <td>15</td>\n",
       "      <td>8</td>\n",
       "      <td>15</td>\n",
       "      <td>48</td>\n",
       "      <td>52</td>\n",
       "      <td>-4</td>\n",
       "      <td>46.0</td>\n",
       "      <td>SP</td>\n",
       "    </tr>\n",
       "    <tr>\n",
       "      <th>148</th>\n",
       "      <td>2016</td>\n",
       "      <td>9</td>\n",
       "      <td>Gremio</td>\n",
       "      <td>53</td>\n",
       "      <td>14</td>\n",
       "      <td>11</td>\n",
       "      <td>13</td>\n",
       "      <td>41</td>\n",
       "      <td>44</td>\n",
       "      <td>-3</td>\n",
       "      <td>46.0</td>\n",
       "      <td>RS</td>\n",
       "    </tr>\n",
       "    <tr>\n",
       "      <th>149</th>\n",
       "      <td>2016</td>\n",
       "      <td>10</td>\n",
       "      <td>Sao Paulo</td>\n",
       "      <td>52</td>\n",
       "      <td>14</td>\n",
       "      <td>10</td>\n",
       "      <td>14</td>\n",
       "      <td>44</td>\n",
       "      <td>36</td>\n",
       "      <td>8</td>\n",
       "      <td>46.0</td>\n",
       "      <td>SP</td>\n",
       "    </tr>\n",
       "    <tr>\n",
       "      <th>150</th>\n",
       "      <td>2016</td>\n",
       "      <td>11</td>\n",
       "      <td>Chapecoense</td>\n",
       "      <td>52</td>\n",
       "      <td>13</td>\n",
       "      <td>13</td>\n",
       "      <td>12</td>\n",
       "      <td>49</td>\n",
       "      <td>56</td>\n",
       "      <td>-7</td>\n",
       "      <td>46.0</td>\n",
       "      <td>SC</td>\n",
       "    </tr>\n",
       "    <tr>\n",
       "      <th>151</th>\n",
       "      <td>2016</td>\n",
       "      <td>12</td>\n",
       "      <td>Cruzeiro</td>\n",
       "      <td>51</td>\n",
       "      <td>14</td>\n",
       "      <td>9</td>\n",
       "      <td>15</td>\n",
       "      <td>48</td>\n",
       "      <td>49</td>\n",
       "      <td>-1</td>\n",
       "      <td>45.0</td>\n",
       "      <td>MG</td>\n",
       "    </tr>\n",
       "  </tbody>\n",
       "</table>\n",
       "</div>"
      ],
      "text/plain": [
       "      ANO  Posicao          Time  Pontos  Vitoria  Empates  Derrotas  \\\n",
       "145  2016        6  Athletico PR      57       17        6        15   \n",
       "146  2016        7   Corinthians      55       15       10        13   \n",
       "147  2016        8   Ponte Preta      53       15        8        15   \n",
       "148  2016        9        Gremio      53       14       11        13   \n",
       "149  2016       10     Sao Paulo      52       14       10        14   \n",
       "150  2016       11   Chapecoense      52       13       13        12   \n",
       "151  2016       12      Cruzeiro      51       14        9        15   \n",
       "\n",
       "     Gols pro  Gols Contra Saldo Gols  Aproveitamento Estados  \n",
       "145        38           32          6            50.0      PR  \n",
       "146        48           42          6            48.0      SP  \n",
       "147        48           52         -4            46.0      SP  \n",
       "148        41           44         -3            46.0      RS  \n",
       "149        44           36          8            46.0      SP  \n",
       "150        49           56         -7            46.0      SC  \n",
       "151        48           49         -1            45.0      MG  "
      ]
     },
     "execution_count": 163,
     "metadata": {},
     "output_type": "execute_result"
    }
   ],
   "source": [
    "sul_americana.loc[sul_americana['ANO'] == 2016] # Diferença de 6 pontos entre o primeiro e o último classificado"
   ]
  },
  {
   "cell_type": "code",
   "execution_count": 164,
   "metadata": {},
   "outputs": [
    {
     "data": {
      "text/html": [
       "<div>\n",
       "<style scoped>\n",
       "    .dataframe tbody tr th:only-of-type {\n",
       "        vertical-align: middle;\n",
       "    }\n",
       "\n",
       "    .dataframe tbody tr th {\n",
       "        vertical-align: top;\n",
       "    }\n",
       "\n",
       "    .dataframe thead th {\n",
       "        text-align: right;\n",
       "    }\n",
       "</style>\n",
       "<table border=\"1\" class=\"dataframe\">\n",
       "  <thead>\n",
       "    <tr style=\"text-align: right;\">\n",
       "      <th></th>\n",
       "      <th>ANO</th>\n",
       "      <th>Posicao</th>\n",
       "      <th>Time</th>\n",
       "      <th>Pontos</th>\n",
       "      <th>Vitoria</th>\n",
       "      <th>Empates</th>\n",
       "      <th>Derrotas</th>\n",
       "      <th>Gols pro</th>\n",
       "      <th>Gols Contra</th>\n",
       "      <th>Saldo Gols</th>\n",
       "      <th>Aproveitamento</th>\n",
       "      <th>Estados</th>\n",
       "    </tr>\n",
       "  </thead>\n",
       "  <tbody>\n",
       "    <tr>\n",
       "      <th>185</th>\n",
       "      <td>2018</td>\n",
       "      <td>6</td>\n",
       "      <td>Atletico  MG</td>\n",
       "      <td>59</td>\n",
       "      <td>17</td>\n",
       "      <td>8</td>\n",
       "      <td>13</td>\n",
       "      <td>56</td>\n",
       "      <td>43</td>\n",
       "      <td>13</td>\n",
       "      <td>51.7</td>\n",
       "      <td>MG</td>\n",
       "    </tr>\n",
       "    <tr>\n",
       "      <th>186</th>\n",
       "      <td>2018</td>\n",
       "      <td>7</td>\n",
       "      <td>Athletico PR</td>\n",
       "      <td>57</td>\n",
       "      <td>16</td>\n",
       "      <td>9</td>\n",
       "      <td>13</td>\n",
       "      <td>54</td>\n",
       "      <td>37</td>\n",
       "      <td>17</td>\n",
       "      <td>50.0</td>\n",
       "      <td>PR</td>\n",
       "    </tr>\n",
       "    <tr>\n",
       "      <th>187</th>\n",
       "      <td>2018</td>\n",
       "      <td>8</td>\n",
       "      <td>Cruzeiro</td>\n",
       "      <td>53</td>\n",
       "      <td>14</td>\n",
       "      <td>11</td>\n",
       "      <td>13</td>\n",
       "      <td>34</td>\n",
       "      <td>34</td>\n",
       "      <td>0</td>\n",
       "      <td>46.5</td>\n",
       "      <td>MG</td>\n",
       "    </tr>\n",
       "    <tr>\n",
       "      <th>188</th>\n",
       "      <td>2018</td>\n",
       "      <td>9</td>\n",
       "      <td>Botafogo</td>\n",
       "      <td>51</td>\n",
       "      <td>13</td>\n",
       "      <td>12</td>\n",
       "      <td>13</td>\n",
       "      <td>38</td>\n",
       "      <td>46</td>\n",
       "      <td>-8</td>\n",
       "      <td>44.7</td>\n",
       "      <td>RJ</td>\n",
       "    </tr>\n",
       "    <tr>\n",
       "      <th>189</th>\n",
       "      <td>2018</td>\n",
       "      <td>10</td>\n",
       "      <td>Santos</td>\n",
       "      <td>50</td>\n",
       "      <td>13</td>\n",
       "      <td>11</td>\n",
       "      <td>14</td>\n",
       "      <td>46</td>\n",
       "      <td>40</td>\n",
       "      <td>6</td>\n",
       "      <td>43.8</td>\n",
       "      <td>SP</td>\n",
       "    </tr>\n",
       "    <tr>\n",
       "      <th>190</th>\n",
       "      <td>2018</td>\n",
       "      <td>11</td>\n",
       "      <td>Bahia</td>\n",
       "      <td>48</td>\n",
       "      <td>12</td>\n",
       "      <td>12</td>\n",
       "      <td>14</td>\n",
       "      <td>39</td>\n",
       "      <td>41</td>\n",
       "      <td>-2</td>\n",
       "      <td>42.1</td>\n",
       "      <td>BA</td>\n",
       "    </tr>\n",
       "    <tr>\n",
       "      <th>191</th>\n",
       "      <td>2018</td>\n",
       "      <td>12</td>\n",
       "      <td>Fluminense</td>\n",
       "      <td>45</td>\n",
       "      <td>12</td>\n",
       "      <td>9</td>\n",
       "      <td>17</td>\n",
       "      <td>32</td>\n",
       "      <td>46</td>\n",
       "      <td>-14</td>\n",
       "      <td>39.5</td>\n",
       "      <td>RJ</td>\n",
       "    </tr>\n",
       "  </tbody>\n",
       "</table>\n",
       "</div>"
      ],
      "text/plain": [
       "      ANO  Posicao          Time  Pontos  Vitoria  Empates  Derrotas  \\\n",
       "185  2018        6  Atletico  MG      59       17        8        13   \n",
       "186  2018        7  Athletico PR      57       16        9        13   \n",
       "187  2018        8      Cruzeiro      53       14       11        13   \n",
       "188  2018        9      Botafogo      51       13       12        13   \n",
       "189  2018       10        Santos      50       13       11        14   \n",
       "190  2018       11         Bahia      48       12       12        14   \n",
       "191  2018       12    Fluminense      45       12        9        17   \n",
       "\n",
       "     Gols pro  Gols Contra Saldo Gols  Aproveitamento Estados  \n",
       "185        56           43         13            51.7      MG  \n",
       "186        54           37         17            50.0      PR  \n",
       "187        34           34          0            46.5      MG  \n",
       "188        38           46         -8            44.7      RJ  \n",
       "189        46           40          6            43.8      SP  \n",
       "190        39           41         -2            42.1      BA  \n",
       "191        32           46        -14            39.5      RJ  "
      ]
     },
     "execution_count": 164,
     "metadata": {},
     "output_type": "execute_result"
    }
   ],
   "source": [
    "sul_americana.loc[sul_americana['ANO'] == 2018] # Diferença de 14 pontos entre o primeiro e o último classificado"
   ]
  },
  {
   "cell_type": "markdown",
   "metadata": {},
   "source": [
    "### Não-rebaixados:"
   ]
  },
  {
   "cell_type": "code",
   "execution_count": 165,
   "metadata": {},
   "outputs": [
    {
     "data": {
      "text/html": [
       "<div>\n",
       "<style scoped>\n",
       "    .dataframe tbody tr th:only-of-type {\n",
       "        vertical-align: middle;\n",
       "    }\n",
       "\n",
       "    .dataframe tbody tr th {\n",
       "        vertical-align: top;\n",
       "    }\n",
       "\n",
       "    .dataframe thead th {\n",
       "        text-align: right;\n",
       "    }\n",
       "</style>\n",
       "<table border=\"1\" class=\"dataframe\">\n",
       "  <thead>\n",
       "    <tr style=\"text-align: right;\">\n",
       "      <th></th>\n",
       "      <th>Valores mínimos</th>\n",
       "    </tr>\n",
       "  </thead>\n",
       "  <tbody>\n",
       "    <tr>\n",
       "      <th>2009</th>\n",
       "      <td>46</td>\n",
       "    </tr>\n",
       "    <tr>\n",
       "      <th>2010</th>\n",
       "      <td>42</td>\n",
       "    </tr>\n",
       "    <tr>\n",
       "      <th>2011</th>\n",
       "      <td>43</td>\n",
       "    </tr>\n",
       "    <tr>\n",
       "      <th>2012</th>\n",
       "      <td>45</td>\n",
       "    </tr>\n",
       "    <tr>\n",
       "      <th>2013</th>\n",
       "      <td>45</td>\n",
       "    </tr>\n",
       "    <tr>\n",
       "      <th>2014</th>\n",
       "      <td>40</td>\n",
       "    </tr>\n",
       "    <tr>\n",
       "      <th>2015</th>\n",
       "      <td>43</td>\n",
       "    </tr>\n",
       "    <tr>\n",
       "      <th>2016</th>\n",
       "      <td>45</td>\n",
       "    </tr>\n",
       "    <tr>\n",
       "      <th>2017</th>\n",
       "      <td>43</td>\n",
       "    </tr>\n",
       "    <tr>\n",
       "      <th>2018</th>\n",
       "      <td>43</td>\n",
       "    </tr>\n",
       "  </tbody>\n",
       "</table>\n",
       "</div>"
      ],
      "text/plain": [
       "      Valores mínimos\n",
       "2009               46\n",
       "2010               42\n",
       "2011               43\n",
       "2012               45\n",
       "2013               45\n",
       "2014               40\n",
       "2015               43\n",
       "2016               45\n",
       "2017               43\n",
       "2018               43"
      ]
     },
     "execution_count": 165,
     "metadata": {},
     "output_type": "execute_result"
    }
   ],
   "source": [
    "explora_valores_minimos(nao_rebaixados)"
   ]
  },
  {
   "cell_type": "code",
   "execution_count": 166,
   "metadata": {},
   "outputs": [
    {
     "name": "stdout",
     "output_type": "stream",
     "text": [
      "O menor número de pontos necessários para um time atingir não ser rebaixado foi 40 pontos no ano de 2014 pelo Palmeiras \n",
      "\n"
     ]
    }
   ],
   "source": [
    "print(\"O menor número de pontos necessários para um time atingir não ser rebaixado foi\",\n",
    "      nao_rebaixados['Pontos'].min(),\n",
    "      \"pontos no ano de\", \n",
    "      nao_rebaixados.loc[nao_rebaixados['Pontos'].idxmin(),'ANO'],\n",
    "     \"pelo\", nao_rebaixados.loc[nao_rebaixados['Pontos'].idxmin(),'Time'], \"\\n\")"
   ]
  },
  {
   "cell_type": "markdown",
   "metadata": {},
   "source": [
    "### ***Não irei explorar o boxplot dos não rebaixados visto que o importante é saber o número mínimo de pontos somente de quem entrou nesse grupo (não há diferenças significativas para um time entre ser o último não rebaixado ou o primeiro não rebaixado)***"
   ]
  },
  {
   "cell_type": "markdown",
   "metadata": {},
   "source": [
    "### Rebaixados"
   ]
  },
  {
   "cell_type": "code",
   "execution_count": 167,
   "metadata": {},
   "outputs": [
    {
     "data": {
      "text/html": [
       "<div>\n",
       "<style scoped>\n",
       "    .dataframe tbody tr th:only-of-type {\n",
       "        vertical-align: middle;\n",
       "    }\n",
       "\n",
       "    .dataframe tbody tr th {\n",
       "        vertical-align: top;\n",
       "    }\n",
       "\n",
       "    .dataframe thead th {\n",
       "        text-align: right;\n",
       "    }\n",
       "</style>\n",
       "<table border=\"1\" class=\"dataframe\">\n",
       "  <thead>\n",
       "    <tr style=\"text-align: right;\">\n",
       "      <th></th>\n",
       "      <th>Valores mínimos</th>\n",
       "    </tr>\n",
       "  </thead>\n",
       "  <tbody>\n",
       "    <tr>\n",
       "      <th>2009</th>\n",
       "      <td>31</td>\n",
       "    </tr>\n",
       "    <tr>\n",
       "      <th>2010</th>\n",
       "      <td>28</td>\n",
       "    </tr>\n",
       "    <tr>\n",
       "      <th>2011</th>\n",
       "      <td>31</td>\n",
       "    </tr>\n",
       "    <tr>\n",
       "      <th>2012</th>\n",
       "      <td>30</td>\n",
       "    </tr>\n",
       "    <tr>\n",
       "      <th>2013</th>\n",
       "      <td>20</td>\n",
       "    </tr>\n",
       "    <tr>\n",
       "      <th>2014</th>\n",
       "      <td>32</td>\n",
       "    </tr>\n",
       "    <tr>\n",
       "      <th>2015</th>\n",
       "      <td>31</td>\n",
       "    </tr>\n",
       "    <tr>\n",
       "      <th>2016</th>\n",
       "      <td>28</td>\n",
       "    </tr>\n",
       "    <tr>\n",
       "      <th>2017</th>\n",
       "      <td>36</td>\n",
       "    </tr>\n",
       "    <tr>\n",
       "      <th>2018</th>\n",
       "      <td>23</td>\n",
       "    </tr>\n",
       "  </tbody>\n",
       "</table>\n",
       "</div>"
      ],
      "text/plain": [
       "      Valores mínimos\n",
       "2009               31\n",
       "2010               28\n",
       "2011               31\n",
       "2012               30\n",
       "2013               20\n",
       "2014               32\n",
       "2015               31\n",
       "2016               28\n",
       "2017               36\n",
       "2018               23"
      ]
     },
     "execution_count": 167,
     "metadata": {},
     "output_type": "execute_result"
    }
   ],
   "source": [
    "explora_valores_minimos(rebaixados)"
   ]
  },
  {
   "cell_type": "code",
   "execution_count": 168,
   "metadata": {},
   "outputs": [
    {
     "name": "stdout",
     "output_type": "stream",
     "text": [
      "A pior pontuação de um time no campeonato brasileiro foi 20 pontos no ano de 2013 pelo Nautico \n",
      "\n",
      "A melhor pontuação de um time que não o livrou do rebaixamento foi 45 pontos no ano de 2009 pelo Coritiba \n",
      "\n"
     ]
    }
   ],
   "source": [
    "print(\"A pior pontuação de um time no campeonato brasileiro foi\",\n",
    "      rebaixados['Pontos'].min(),\n",
    "      \"pontos no ano de\", \n",
    "      rebaixados.loc[rebaixados['Pontos'].idxmin(),'ANO'],\n",
    "     \"pelo\", rebaixados.loc[rebaixados['Pontos'].idxmin(),'Time'], \"\\n\")\n",
    "\n",
    "print(\"A melhor pontuação de um time que não o livrou do rebaixamento foi\",\n",
    "      rebaixados['Pontos'].max(),\n",
    "      \"pontos no ano de\", \n",
    "      rebaixados.loc[rebaixados['Pontos'].idxmax(),'ANO'],\n",
    "     \"pelo\", rebaixados.loc[rebaixados['Pontos'].idxmax(),'Time'], \"\\n\")"
   ]
  },
  {
   "cell_type": "markdown",
   "metadata": {},
   "source": [
    "É muito importante saber interpretar os resultados obtidos. Como estou calculando o mínimo de pontos dos times que foram rebaixados, podemos concluir:\n",
    "1. O menor número de pontos representa o pior desempenho dentre os campeonatos apurados (2009 até 2018)\n",
    "2. O valor máximo de pontos representa o melhor desempenho de um time rebaixado, mas que não serviu para livrá-lo do rebaixamento"
   ]
  },
  {
   "cell_type": "code",
   "execution_count": 169,
   "metadata": {},
   "outputs": [
    {
     "data": {
      "text/plain": [
       "<matplotlib.axes._subplots.AxesSubplot at 0x7f9be7056400>"
      ]
     },
     "execution_count": 169,
     "metadata": {},
     "output_type": "execute_result"
    },
    {
     "data": {
      "image/png": "[encoded data removed]",
      "text/plain": [
       "<Figure size 432x288 with 1 Axes>"
      ]
     },
     "metadata": {
      "needs_background": "light"
     },
     "output_type": "display_data"
    }
   ],
   "source": [
    "sb.boxplot(x=rebaixados['ANO'], y=rebaixados['Pontos'])"
   ]
  },
  {
   "cell_type": "markdown",
   "metadata": {},
   "source": [
    "### Insights que podem ser extraídos do Boxplot Rebaixados:\n",
    "\n",
    "*A interpretação é diferente dos demais boxplots. Aqui, conseguiremos ver basicamente piores (recorde negativo) e melhores desempenhos, mas que não foram suficientes para livrar o time do rebaixamento*. Sendo assim:\n",
    "\n",
    "1. Em 2009 tivemos o melhor desempenho que não serviu para livrar um clube do rebaixamento\n",
    "2. Em 2013 tivemos uma disputa menos acirrada entre os times que foram rebaixados visto que um time fez na casa dos 20 pontos enquanto outro fez cerca de 40\n",
    "3. Em 2014 tivemos o time com melhor desempenho entre os rebaixados fazendo a menor pontuação (comparando todos os anos), o que pode ser um indício de que que o time que escapou do rebaixamento precisou de menos pontos em comparação aos anos anteriores\n",
    "\n",
    "**Para confirmar essas suposições (veja que o que afirmei foi com base na análise visual/intuitiva dos boxplots), exibiremos o grupo dos times classificados para a libertadores nos 2 anos citados**."
   ]
  },
  {
   "cell_type": "code",
   "execution_count": 170,
   "metadata": {},
   "outputs": [
    {
     "data": {
      "text/html": [
       "<div>\n",
       "<style scoped>\n",
       "    .dataframe tbody tr th:only-of-type {\n",
       "        vertical-align: middle;\n",
       "    }\n",
       "\n",
       "    .dataframe tbody tr th {\n",
       "        vertical-align: top;\n",
       "    }\n",
       "\n",
       "    .dataframe thead th {\n",
       "        text-align: right;\n",
       "    }\n",
       "</style>\n",
       "<table border=\"1\" class=\"dataframe\">\n",
       "  <thead>\n",
       "    <tr style=\"text-align: right;\">\n",
       "      <th></th>\n",
       "      <th>ANO</th>\n",
       "      <th>Posicao</th>\n",
       "      <th>Time</th>\n",
       "      <th>Pontos</th>\n",
       "      <th>Vitoria</th>\n",
       "      <th>Empates</th>\n",
       "      <th>Derrotas</th>\n",
       "      <th>Gols pro</th>\n",
       "      <th>Gols Contra</th>\n",
       "      <th>Saldo Gols</th>\n",
       "      <th>Aproveitamento</th>\n",
       "      <th>Estados</th>\n",
       "    </tr>\n",
       "  </thead>\n",
       "  <tbody>\n",
       "    <tr>\n",
       "      <th>16</th>\n",
       "      <td>2009</td>\n",
       "      <td>17</td>\n",
       "      <td>Coritiba</td>\n",
       "      <td>45</td>\n",
       "      <td>12</td>\n",
       "      <td>9</td>\n",
       "      <td>17</td>\n",
       "      <td>48</td>\n",
       "      <td>60</td>\n",
       "      <td>-12</td>\n",
       "      <td>39.5</td>\n",
       "      <td>PR</td>\n",
       "    </tr>\n",
       "    <tr>\n",
       "      <th>17</th>\n",
       "      <td>2009</td>\n",
       "      <td>18</td>\n",
       "      <td>Santo Andre</td>\n",
       "      <td>41</td>\n",
       "      <td>11</td>\n",
       "      <td>8</td>\n",
       "      <td>19</td>\n",
       "      <td>46</td>\n",
       "      <td>61</td>\n",
       "      <td>-15</td>\n",
       "      <td>36.0</td>\n",
       "      <td>SP</td>\n",
       "    </tr>\n",
       "    <tr>\n",
       "      <th>18</th>\n",
       "      <td>2009</td>\n",
       "      <td>19</td>\n",
       "      <td>Nautico</td>\n",
       "      <td>38</td>\n",
       "      <td>10</td>\n",
       "      <td>8</td>\n",
       "      <td>20</td>\n",
       "      <td>48</td>\n",
       "      <td>71</td>\n",
       "      <td>-23</td>\n",
       "      <td>33.3</td>\n",
       "      <td>PE</td>\n",
       "    </tr>\n",
       "    <tr>\n",
       "      <th>19</th>\n",
       "      <td>2009</td>\n",
       "      <td>20</td>\n",
       "      <td>Sport</td>\n",
       "      <td>31</td>\n",
       "      <td>7</td>\n",
       "      <td>10</td>\n",
       "      <td>21</td>\n",
       "      <td>48</td>\n",
       "      <td>71</td>\n",
       "      <td>-23</td>\n",
       "      <td>27.2</td>\n",
       "      <td>PE</td>\n",
       "    </tr>\n",
       "  </tbody>\n",
       "</table>\n",
       "</div>"
      ],
      "text/plain": [
       "     ANO  Posicao         Time  Pontos  Vitoria  Empates  Derrotas  Gols pro  \\\n",
       "16  2009       17     Coritiba      45       12        9        17        48   \n",
       "17  2009       18  Santo Andre      41       11        8        19        46   \n",
       "18  2009       19      Nautico      38       10        8        20        48   \n",
       "19  2009       20        Sport      31        7       10        21        48   \n",
       "\n",
       "    Gols Contra Saldo Gols  Aproveitamento Estados  \n",
       "16           60        -12            39.5      PR  \n",
       "17           61        -15            36.0      SP  \n",
       "18           71        -23            33.3      PE  \n",
       "19           71        -23            27.2      PE  "
      ]
     },
     "execution_count": 170,
     "metadata": {},
     "output_type": "execute_result"
    }
   ],
   "source": [
    "rebaixados.loc[rebaixados['ANO'] == 2009]"
   ]
  },
  {
   "cell_type": "code",
   "execution_count": 171,
   "metadata": {},
   "outputs": [
    {
     "data": {
      "text/html": [
       "<div>\n",
       "<style scoped>\n",
       "    .dataframe tbody tr th:only-of-type {\n",
       "        vertical-align: middle;\n",
       "    }\n",
       "\n",
       "    .dataframe tbody tr th {\n",
       "        vertical-align: top;\n",
       "    }\n",
       "\n",
       "    .dataframe thead th {\n",
       "        text-align: right;\n",
       "    }\n",
       "</style>\n",
       "<table border=\"1\" class=\"dataframe\">\n",
       "  <thead>\n",
       "    <tr style=\"text-align: right;\">\n",
       "      <th></th>\n",
       "      <th>ANO</th>\n",
       "      <th>Posicao</th>\n",
       "      <th>Time</th>\n",
       "      <th>Pontos</th>\n",
       "      <th>Vitoria</th>\n",
       "      <th>Empates</th>\n",
       "      <th>Derrotas</th>\n",
       "      <th>Gols pro</th>\n",
       "      <th>Gols Contra</th>\n",
       "      <th>Saldo Gols</th>\n",
       "      <th>Aproveitamento</th>\n",
       "      <th>Estados</th>\n",
       "    </tr>\n",
       "  </thead>\n",
       "  <tbody>\n",
       "    <tr>\n",
       "      <th>15</th>\n",
       "      <td>2009</td>\n",
       "      <td>16</td>\n",
       "      <td>Fluminense</td>\n",
       "      <td>46</td>\n",
       "      <td>11</td>\n",
       "      <td>13</td>\n",
       "      <td>14</td>\n",
       "      <td>49</td>\n",
       "      <td>56</td>\n",
       "      <td>-7</td>\n",
       "      <td>40.4</td>\n",
       "      <td>RJ</td>\n",
       "    </tr>\n",
       "  </tbody>\n",
       "</table>\n",
       "</div>"
      ],
      "text/plain": [
       "     ANO  Posicao        Time  Pontos  Vitoria  Empates  Derrotas  Gols pro  \\\n",
       "15  2009       16  Fluminense      46       11       13        14        49   \n",
       "\n",
       "    Gols Contra Saldo Gols  Aproveitamento Estados  \n",
       "15           56         -7            40.4      RJ  "
      ]
     },
     "execution_count": 171,
     "metadata": {},
     "output_type": "execute_result"
    }
   ],
   "source": [
    "nao_rebaixados.loc[(nao_rebaixados['ANO'] == 2009)].loc[nao_rebaixados['Posicao'] == 16]\n",
    "## Fluminense precisou fazer 46 pontos para escapar do rebaixamento em 2009 demonstrando a disputa acirrada."
   ]
  },
  {
   "cell_type": "code",
   "execution_count": 172,
   "metadata": {},
   "outputs": [
    {
     "data": {
      "text/html": [
       "<div>\n",
       "<style scoped>\n",
       "    .dataframe tbody tr th:only-of-type {\n",
       "        vertical-align: middle;\n",
       "    }\n",
       "\n",
       "    .dataframe tbody tr th {\n",
       "        vertical-align: top;\n",
       "    }\n",
       "\n",
       "    .dataframe thead th {\n",
       "        text-align: right;\n",
       "    }\n",
       "</style>\n",
       "<table border=\"1\" class=\"dataframe\">\n",
       "  <thead>\n",
       "    <tr style=\"text-align: right;\">\n",
       "      <th></th>\n",
       "      <th>ANO</th>\n",
       "      <th>Posicao</th>\n",
       "      <th>Time</th>\n",
       "      <th>Pontos</th>\n",
       "      <th>Vitoria</th>\n",
       "      <th>Empates</th>\n",
       "      <th>Derrotas</th>\n",
       "      <th>Gols pro</th>\n",
       "      <th>Gols Contra</th>\n",
       "      <th>Saldo Gols</th>\n",
       "      <th>Aproveitamento</th>\n",
       "      <th>Estados</th>\n",
       "    </tr>\n",
       "  </thead>\n",
       "  <tbody>\n",
       "    <tr>\n",
       "      <th>96</th>\n",
       "      <td>2013</td>\n",
       "      <td>17</td>\n",
       "      <td>Portuguesa</td>\n",
       "      <td>44</td>\n",
       "      <td>12</td>\n",
       "      <td>12</td>\n",
       "      <td>14</td>\n",
       "      <td>50</td>\n",
       "      <td>46</td>\n",
       "      <td>4</td>\n",
       "      <td>42.0</td>\n",
       "      <td>SP</td>\n",
       "    </tr>\n",
       "    <tr>\n",
       "      <th>97</th>\n",
       "      <td>2013</td>\n",
       "      <td>18</td>\n",
       "      <td>Vasco</td>\n",
       "      <td>44</td>\n",
       "      <td>11</td>\n",
       "      <td>11</td>\n",
       "      <td>16</td>\n",
       "      <td>50</td>\n",
       "      <td>61</td>\n",
       "      <td>–11</td>\n",
       "      <td>38.0</td>\n",
       "      <td>RJ</td>\n",
       "    </tr>\n",
       "    <tr>\n",
       "      <th>98</th>\n",
       "      <td>2013</td>\n",
       "      <td>19</td>\n",
       "      <td>Ponte Preta</td>\n",
       "      <td>37</td>\n",
       "      <td>9</td>\n",
       "      <td>10</td>\n",
       "      <td>19</td>\n",
       "      <td>37</td>\n",
       "      <td>55</td>\n",
       "      <td>–18</td>\n",
       "      <td>32.0</td>\n",
       "      <td>SP</td>\n",
       "    </tr>\n",
       "    <tr>\n",
       "      <th>99</th>\n",
       "      <td>2013</td>\n",
       "      <td>20</td>\n",
       "      <td>Nautico</td>\n",
       "      <td>20</td>\n",
       "      <td>5</td>\n",
       "      <td>5</td>\n",
       "      <td>28</td>\n",
       "      <td>22</td>\n",
       "      <td>79</td>\n",
       "      <td>–57</td>\n",
       "      <td>17.0</td>\n",
       "      <td>PE</td>\n",
       "    </tr>\n",
       "  </tbody>\n",
       "</table>\n",
       "</div>"
      ],
      "text/plain": [
       "     ANO  Posicao         Time  Pontos  Vitoria  Empates  Derrotas  Gols pro  \\\n",
       "96  2013       17   Portuguesa      44       12       12        14        50   \n",
       "97  2013       18        Vasco      44       11       11        16        50   \n",
       "98  2013       19  Ponte Preta      37        9       10        19        37   \n",
       "99  2013       20      Nautico      20        5        5        28        22   \n",
       "\n",
       "    Gols Contra Saldo Gols  Aproveitamento Estados  \n",
       "96           46          4            42.0      SP  \n",
       "97           61        –11            38.0      RJ  \n",
       "98           55        –18            32.0      SP  \n",
       "99           79        –57            17.0      PE  "
      ]
     },
     "execution_count": 172,
     "metadata": {},
     "output_type": "execute_result"
    }
   ],
   "source": [
    "rebaixados.loc[rebaixados['ANO'] == 2013]"
   ]
  },
  {
   "cell_type": "code",
   "execution_count": 173,
   "metadata": {},
   "outputs": [
    {
     "data": {
      "text/html": [
       "<div>\n",
       "<style scoped>\n",
       "    .dataframe tbody tr th:only-of-type {\n",
       "        vertical-align: middle;\n",
       "    }\n",
       "\n",
       "    .dataframe tbody tr th {\n",
       "        vertical-align: top;\n",
       "    }\n",
       "\n",
       "    .dataframe thead th {\n",
       "        text-align: right;\n",
       "    }\n",
       "</style>\n",
       "<table border=\"1\" class=\"dataframe\">\n",
       "  <thead>\n",
       "    <tr style=\"text-align: right;\">\n",
       "      <th></th>\n",
       "      <th>ANO</th>\n",
       "      <th>Posicao</th>\n",
       "      <th>Time</th>\n",
       "      <th>Pontos</th>\n",
       "      <th>Vitoria</th>\n",
       "      <th>Empates</th>\n",
       "      <th>Derrotas</th>\n",
       "      <th>Gols pro</th>\n",
       "      <th>Gols Contra</th>\n",
       "      <th>Saldo Gols</th>\n",
       "      <th>Aproveitamento</th>\n",
       "      <th>Estados</th>\n",
       "    </tr>\n",
       "  </thead>\n",
       "  <tbody>\n",
       "    <tr>\n",
       "      <th>95</th>\n",
       "      <td>2013</td>\n",
       "      <td>16</td>\n",
       "      <td>Flamengo</td>\n",
       "      <td>45</td>\n",
       "      <td>12</td>\n",
       "      <td>13</td>\n",
       "      <td>13</td>\n",
       "      <td>43</td>\n",
       "      <td>46</td>\n",
       "      <td>–3</td>\n",
       "      <td>43.0</td>\n",
       "      <td>RJ</td>\n",
       "    </tr>\n",
       "  </tbody>\n",
       "</table>\n",
       "</div>"
      ],
      "text/plain": [
       "     ANO  Posicao      Time  Pontos  Vitoria  Empates  Derrotas  Gols pro  \\\n",
       "95  2013       16  Flamengo      45       12       13        13        43   \n",
       "\n",
       "    Gols Contra Saldo Gols  Aproveitamento Estados  \n",
       "95           46         –3            43.0      RJ  "
      ]
     },
     "execution_count": 173,
     "metadata": {},
     "output_type": "execute_result"
    }
   ],
   "source": [
    "nao_rebaixados.loc[(nao_rebaixados['ANO'] == 2013)].loc[nao_rebaixados['Posicao'] == 16]\n",
    "## Diferença entre o não rebaixado (Flamengo) e o pior rebaixado (Náutico) foi de 25 pontos"
   ]
  },
  {
   "cell_type": "code",
   "execution_count": 174,
   "metadata": {},
   "outputs": [
    {
     "data": {
      "text/html": [
       "<div>\n",
       "<style scoped>\n",
       "    .dataframe tbody tr th:only-of-type {\n",
       "        vertical-align: middle;\n",
       "    }\n",
       "\n",
       "    .dataframe tbody tr th {\n",
       "        vertical-align: top;\n",
       "    }\n",
       "\n",
       "    .dataframe thead th {\n",
       "        text-align: right;\n",
       "    }\n",
       "</style>\n",
       "<table border=\"1\" class=\"dataframe\">\n",
       "  <thead>\n",
       "    <tr style=\"text-align: right;\">\n",
       "      <th></th>\n",
       "      <th>ANO</th>\n",
       "      <th>Posicao</th>\n",
       "      <th>Time</th>\n",
       "      <th>Pontos</th>\n",
       "      <th>Vitoria</th>\n",
       "      <th>Empates</th>\n",
       "      <th>Derrotas</th>\n",
       "      <th>Gols pro</th>\n",
       "      <th>Gols Contra</th>\n",
       "      <th>Saldo Gols</th>\n",
       "      <th>Aproveitamento</th>\n",
       "      <th>Estados</th>\n",
       "    </tr>\n",
       "  </thead>\n",
       "  <tbody>\n",
       "    <tr>\n",
       "      <th>116</th>\n",
       "      <td>2014</td>\n",
       "      <td>17</td>\n",
       "      <td>Vitoria</td>\n",
       "      <td>38</td>\n",
       "      <td>10</td>\n",
       "      <td>8</td>\n",
       "      <td>20</td>\n",
       "      <td>37</td>\n",
       "      <td>54</td>\n",
       "      <td>-17</td>\n",
       "      <td>33.3</td>\n",
       "      <td>PE</td>\n",
       "    </tr>\n",
       "    <tr>\n",
       "      <th>117</th>\n",
       "      <td>2014</td>\n",
       "      <td>18</td>\n",
       "      <td>Bahia</td>\n",
       "      <td>37</td>\n",
       "      <td>9</td>\n",
       "      <td>10</td>\n",
       "      <td>19</td>\n",
       "      <td>31</td>\n",
       "      <td>43</td>\n",
       "      <td>-12</td>\n",
       "      <td>32.5</td>\n",
       "      <td>BA</td>\n",
       "    </tr>\n",
       "    <tr>\n",
       "      <th>118</th>\n",
       "      <td>2014</td>\n",
       "      <td>19</td>\n",
       "      <td>Botafogo</td>\n",
       "      <td>34</td>\n",
       "      <td>9</td>\n",
       "      <td>7</td>\n",
       "      <td>22</td>\n",
       "      <td>31</td>\n",
       "      <td>48</td>\n",
       "      <td>-17</td>\n",
       "      <td>29.8</td>\n",
       "      <td>RJ</td>\n",
       "    </tr>\n",
       "    <tr>\n",
       "      <th>119</th>\n",
       "      <td>2014</td>\n",
       "      <td>20</td>\n",
       "      <td>Criciuma</td>\n",
       "      <td>32</td>\n",
       "      <td>7</td>\n",
       "      <td>11</td>\n",
       "      <td>20</td>\n",
       "      <td>28</td>\n",
       "      <td>56</td>\n",
       "      <td>-28</td>\n",
       "      <td>28.1</td>\n",
       "      <td>SC</td>\n",
       "    </tr>\n",
       "  </tbody>\n",
       "</table>\n",
       "</div>"
      ],
      "text/plain": [
       "      ANO  Posicao      Time  Pontos  Vitoria  Empates  Derrotas  Gols pro  \\\n",
       "116  2014       17   Vitoria      38       10        8        20        37   \n",
       "117  2014       18     Bahia      37        9       10        19        31   \n",
       "118  2014       19  Botafogo      34        9        7        22        31   \n",
       "119  2014       20  Criciuma      32        7       11        20        28   \n",
       "\n",
       "     Gols Contra Saldo Gols  Aproveitamento Estados  \n",
       "116           54        -17            33.3      PE  \n",
       "117           43        -12            32.5      BA  \n",
       "118           48        -17            29.8      RJ  \n",
       "119           56        -28            28.1      SC  "
      ]
     },
     "execution_count": 174,
     "metadata": {},
     "output_type": "execute_result"
    }
   ],
   "source": [
    "rebaixados.loc[rebaixados['ANO'] == 2014]"
   ]
  },
  {
   "cell_type": "code",
   "execution_count": 175,
   "metadata": {},
   "outputs": [
    {
     "data": {
      "text/html": [
       "<div>\n",
       "<style scoped>\n",
       "    .dataframe tbody tr th:only-of-type {\n",
       "        vertical-align: middle;\n",
       "    }\n",
       "\n",
       "    .dataframe tbody tr th {\n",
       "        vertical-align: top;\n",
       "    }\n",
       "\n",
       "    .dataframe thead th {\n",
       "        text-align: right;\n",
       "    }\n",
       "</style>\n",
       "<table border=\"1\" class=\"dataframe\">\n",
       "  <thead>\n",
       "    <tr style=\"text-align: right;\">\n",
       "      <th></th>\n",
       "      <th>ANO</th>\n",
       "      <th>Posicao</th>\n",
       "      <th>Time</th>\n",
       "      <th>Pontos</th>\n",
       "      <th>Vitoria</th>\n",
       "      <th>Empates</th>\n",
       "      <th>Derrotas</th>\n",
       "      <th>Gols pro</th>\n",
       "      <th>Gols Contra</th>\n",
       "      <th>Saldo Gols</th>\n",
       "      <th>Aproveitamento</th>\n",
       "      <th>Estados</th>\n",
       "    </tr>\n",
       "  </thead>\n",
       "  <tbody>\n",
       "    <tr>\n",
       "      <th>115</th>\n",
       "      <td>2014</td>\n",
       "      <td>16</td>\n",
       "      <td>Palmeiras</td>\n",
       "      <td>40</td>\n",
       "      <td>11</td>\n",
       "      <td>7</td>\n",
       "      <td>20</td>\n",
       "      <td>34</td>\n",
       "      <td>59</td>\n",
       "      <td>-25</td>\n",
       "      <td>35.1</td>\n",
       "      <td>SP</td>\n",
       "    </tr>\n",
       "  </tbody>\n",
       "</table>\n",
       "</div>"
      ],
      "text/plain": [
       "      ANO  Posicao       Time  Pontos  Vitoria  Empates  Derrotas  Gols pro  \\\n",
       "115  2014       16  Palmeiras      40       11        7        20        34   \n",
       "\n",
       "     Gols Contra Saldo Gols  Aproveitamento Estados  \n",
       "115           59        -25            35.1      SP  "
      ]
     },
     "execution_count": 175,
     "metadata": {},
     "output_type": "execute_result"
    }
   ],
   "source": [
    "nao_rebaixados.loc[(nao_rebaixados['ANO'] == 2014)].loc[nao_rebaixados['Posicao'] == 16]\n",
    "## Palmeiras precisou apenas de 40 pontos para escapar do rebaixamento em 2014\n",
    "## Em 2009, o Coritiba com 45 pontos não conseguiu se livrar do rebaixamento o que demonstra do campeonato nesses anos"
   ]
  },
  {
   "cell_type": "code",
   "execution_count": null,
   "metadata": {},
   "outputs": [],
   "source": []
  }
 ],
 "metadata": {
  "kernelspec": {
   "display_name": "Python 3",
   "language": "python",
   "name": "python3"
  },
  "language_info": {
   "codemirror_mode": {
    "name": "ipython",
    "version": 3
   },
   "file_extension": ".py",
   "mimetype": "text/x-python",
   "name": "python",
   "nbconvert_exporter": "python",
   "pygments_lexer": "ipython3",
   "version": "3.7.0"
  }
 },
 "nbformat": 4,
 "nbformat_minor": 2
}
